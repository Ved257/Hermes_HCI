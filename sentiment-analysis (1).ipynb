{
 "cells": [
  {
   "cell_type": "code",
   "execution_count": 1,
   "metadata": {
    "execution": {
     "iopub.execute_input": "2023-03-23T00:38:55.425050Z",
     "iopub.status.busy": "2023-03-23T00:38:55.424703Z",
     "iopub.status.idle": "2023-03-23T00:39:04.567201Z",
     "shell.execute_reply": "2023-03-23T00:39:04.566102Z",
     "shell.execute_reply.started": "2023-03-23T00:38:55.425018Z"
    }
   },
   "outputs": [
    {
     "name": "stderr",
     "output_type": "stream",
     "text": [
      "2023-03-27 18:45:44.721709: I tensorflow/tsl/cuda/cudart_stub.cc:28] Could not find cuda drivers on your machine, GPU will not be used.\n",
      "2023-03-27 18:45:44.781998: I tensorflow/tsl/cuda/cudart_stub.cc:28] Could not find cuda drivers on your machine, GPU will not be used.\n",
      "2023-03-27 18:45:44.783385: I tensorflow/core/platform/cpu_feature_guard.cc:182] This TensorFlow binary is optimized to use available CPU instructions in performance-critical operations.\n",
      "To enable the following instructions: AVX2 FMA, in other operations, rebuild TensorFlow with the appropriate compiler flags.\n",
      "2023-03-27 18:45:45.991614: W tensorflow/compiler/tf2tensorrt/utils/py_utils.cc:38] TF-TRT Warning: Could not find TensorRT\n",
      "/home/bradwaj/.local/lib/python3.8/site-packages/scipy/__init__.py:146: UserWarning: A NumPy version >=1.16.5 and <1.23.0 is required for this version of SciPy (detected version 1.23.5\n",
      "  warnings.warn(f\"A NumPy version >={np_minversion} and <{np_maxversion}\"\n"
     ]
    }
   ],
   "source": [
    "import tensorflow as tf\n",
    "import numpy as np\n",
    "import pandas as pd\n",
    "import seaborn as sns\n",
    "import matplotlib.pyplot as plt\n",
    "from tqdm import tqdm"
   ]
  },
  {
   "cell_type": "code",
   "execution_count": 2,
   "metadata": {
    "execution": {
     "iopub.execute_input": "2023-03-23T00:39:04.570217Z",
     "iopub.status.busy": "2023-03-23T00:39:04.569426Z",
     "iopub.status.idle": "2023-03-23T00:39:06.978269Z",
     "shell.execute_reply": "2023-03-23T00:39:06.977130Z",
     "shell.execute_reply.started": "2023-03-23T00:39:04.570156Z"
    }
   },
   "outputs": [
    {
     "data": {
      "text/html": [
       "<div>\n",
       "<style scoped>\n",
       "    .dataframe tbody tr th:only-of-type {\n",
       "        vertical-align: middle;\n",
       "    }\n",
       "\n",
       "    .dataframe tbody tr th {\n",
       "        vertical-align: top;\n",
       "    }\n",
       "\n",
       "    .dataframe thead th {\n",
       "        text-align: right;\n",
       "    }\n",
       "</style>\n",
       "<table border=\"1\" class=\"dataframe\">\n",
       "  <thead>\n",
       "    <tr style=\"text-align: right;\">\n",
       "      <th></th>\n",
       "      <th>PhraseId</th>\n",
       "      <th>SentenceId</th>\n",
       "      <th>Phrase</th>\n",
       "      <th>Sentiment</th>\n",
       "    </tr>\n",
       "  </thead>\n",
       "  <tbody>\n",
       "    <tr>\n",
       "      <th>0</th>\n",
       "      <td>1</td>\n",
       "      <td>1</td>\n",
       "      <td>A series of escapades demonstrating the adage ...</td>\n",
       "      <td>1</td>\n",
       "    </tr>\n",
       "    <tr>\n",
       "      <th>1</th>\n",
       "      <td>2</td>\n",
       "      <td>1</td>\n",
       "      <td>A series of escapades demonstrating the adage ...</td>\n",
       "      <td>2</td>\n",
       "    </tr>\n",
       "    <tr>\n",
       "      <th>2</th>\n",
       "      <td>3</td>\n",
       "      <td>1</td>\n",
       "      <td>A series</td>\n",
       "      <td>2</td>\n",
       "    </tr>\n",
       "    <tr>\n",
       "      <th>3</th>\n",
       "      <td>4</td>\n",
       "      <td>1</td>\n",
       "      <td>A</td>\n",
       "      <td>2</td>\n",
       "    </tr>\n",
       "    <tr>\n",
       "      <th>4</th>\n",
       "      <td>5</td>\n",
       "      <td>1</td>\n",
       "      <td>series</td>\n",
       "      <td>2</td>\n",
       "    </tr>\n",
       "  </tbody>\n",
       "</table>\n",
       "</div>"
      ],
      "text/plain": [
       "   PhraseId  SentenceId                                             Phrase  \\\n",
       "0         1           1  A series of escapades demonstrating the adage ...   \n",
       "1         2           1  A series of escapades demonstrating the adage ...   \n",
       "2         3           1                                           A series   \n",
       "3         4           1                                                  A   \n",
       "4         5           1                                             series   \n",
       "\n",
       "   Sentiment  \n",
       "0          1  \n",
       "1          2  \n",
       "2          2  \n",
       "3          2  \n",
       "4          2  "
      ]
     },
     "execution_count": 2,
     "metadata": {},
     "output_type": "execute_result"
    }
   ],
   "source": [
    "\n",
    "tsv_data = pd.read_csv(\"./train.tsv\", sep=\"\\t\")\n",
    "tsv_data.head()"
   ]
  },
  {
   "cell_type": "code",
   "execution_count": 3,
   "metadata": {
    "execution": {
     "iopub.execute_input": "2023-03-23T00:39:06.980468Z",
     "iopub.status.busy": "2023-03-23T00:39:06.980088Z",
     "iopub.status.idle": "2023-03-23T00:39:07.005870Z",
     "shell.execute_reply": "2023-03-23T00:39:07.004612Z",
     "shell.execute_reply.started": "2023-03-23T00:39:06.980426Z"
    }
   },
   "outputs": [
    {
     "data": {
      "text/html": [
       "<div>\n",
       "<style scoped>\n",
       "    .dataframe tbody tr th:only-of-type {\n",
       "        vertical-align: middle;\n",
       "    }\n",
       "\n",
       "    .dataframe tbody tr th {\n",
       "        vertical-align: top;\n",
       "    }\n",
       "\n",
       "    .dataframe thead th {\n",
       "        text-align: right;\n",
       "    }\n",
       "</style>\n",
       "<table border=\"1\" class=\"dataframe\">\n",
       "  <thead>\n",
       "    <tr style=\"text-align: right;\">\n",
       "      <th></th>\n",
       "      <th>PhraseId</th>\n",
       "      <th>SentenceId</th>\n",
       "      <th>Phrase</th>\n",
       "      <th>Sentiment</th>\n",
       "    </tr>\n",
       "  </thead>\n",
       "  <tbody>\n",
       "    <tr>\n",
       "      <th>0</th>\n",
       "      <td>1</td>\n",
       "      <td>1</td>\n",
       "      <td>A series of escapades demonstrating the adage ...</td>\n",
       "      <td>1</td>\n",
       "    </tr>\n",
       "    <tr>\n",
       "      <th>63</th>\n",
       "      <td>64</td>\n",
       "      <td>2</td>\n",
       "      <td>This quiet , introspective and entertaining in...</td>\n",
       "      <td>4</td>\n",
       "    </tr>\n",
       "    <tr>\n",
       "      <th>81</th>\n",
       "      <td>82</td>\n",
       "      <td>3</td>\n",
       "      <td>Even fans of Ismail Merchant 's work , I suspe...</td>\n",
       "      <td>1</td>\n",
       "    </tr>\n",
       "    <tr>\n",
       "      <th>116</th>\n",
       "      <td>117</td>\n",
       "      <td>4</td>\n",
       "      <td>A positively thrilling combination of ethnogra...</td>\n",
       "      <td>3</td>\n",
       "    </tr>\n",
       "    <tr>\n",
       "      <th>156</th>\n",
       "      <td>157</td>\n",
       "      <td>5</td>\n",
       "      <td>Aggressive self-glorification and a manipulati...</td>\n",
       "      <td>1</td>\n",
       "    </tr>\n",
       "  </tbody>\n",
       "</table>\n",
       "</div>"
      ],
      "text/plain": [
       "     PhraseId  SentenceId                                             Phrase  \\\n",
       "0           1           1  A series of escapades demonstrating the adage ...   \n",
       "63         64           2  This quiet , introspective and entertaining in...   \n",
       "81         82           3  Even fans of Ismail Merchant 's work , I suspe...   \n",
       "116       117           4  A positively thrilling combination of ethnogra...   \n",
       "156       157           5  Aggressive self-glorification and a manipulati...   \n",
       "\n",
       "     Sentiment  \n",
       "0            1  \n",
       "63           4  \n",
       "81           1  \n",
       "116          3  \n",
       "156          1  "
      ]
     },
     "execution_count": 3,
     "metadata": {},
     "output_type": "execute_result"
    }
   ],
   "source": [
    "tsv_data.drop_duplicates(subset=\"SentenceId\", keep=\"first\", inplace=True)\n",
    "tsv_data.head()"
   ]
  },
  {
   "cell_type": "code",
   "execution_count": 4,
   "metadata": {
    "execution": {
     "iopub.execute_input": "2023-03-23T00:39:07.007543Z",
     "iopub.status.busy": "2023-03-23T00:39:07.007121Z",
     "iopub.status.idle": "2023-03-23T00:39:07.016287Z",
     "shell.execute_reply": "2023-03-23T00:39:07.015234Z",
     "shell.execute_reply.started": "2023-03-23T00:39:07.007505Z"
    }
   },
   "outputs": [
    {
     "data": {
      "text/plain": [
       "(8529, 4)"
      ]
     },
     "execution_count": 4,
     "metadata": {},
     "output_type": "execute_result"
    }
   ],
   "source": [
    "tsv_data.shape"
   ]
  },
  {
   "cell_type": "code",
   "execution_count": 5,
   "metadata": {
    "execution": {
     "iopub.execute_input": "2023-03-23T00:39:07.020370Z",
     "iopub.status.busy": "2023-03-23T00:39:07.019750Z",
     "iopub.status.idle": "2023-03-23T00:39:07.039723Z",
     "shell.execute_reply": "2023-03-23T00:39:07.038692Z",
     "shell.execute_reply.started": "2023-03-23T00:39:07.020334Z"
    }
   },
   "outputs": [
    {
     "name": "stdout",
     "output_type": "stream",
     "text": [
      "(8529,)\n"
     ]
    }
   ],
   "source": [
    "seqlen = tsv_data[\"Phrase\"].apply(lambda x: len(x.split()))\n",
    "print(seqlen.shape)"
   ]
  },
  {
   "cell_type": "code",
   "execution_count": 6,
   "metadata": {
    "execution": {
     "iopub.execute_input": "2023-03-23T00:39:07.041487Z",
     "iopub.status.busy": "2023-03-23T00:39:07.041046Z",
     "iopub.status.idle": "2023-03-23T00:39:07.410825Z",
     "shell.execute_reply": "2023-03-23T00:39:07.409775Z",
     "shell.execute_reply.started": "2023-03-23T00:39:07.041450Z"
    }
   },
   "outputs": [
    {
     "data": {
      "image/png": "[encoded data removed]",
      "text/plain": [
       "<Figure size 360x360 with 1 Axes>"
      ]
     },
     "metadata": {
      "needs_background": "light"
     },
     "output_type": "display_data"
    },
    {
     "data": {
      "text/plain": [
       "<Figure size 2160x1080 with 0 Axes>"
      ]
     },
     "metadata": {},
     "output_type": "display_data"
    }
   ],
   "source": [
    "sns.displot(seqlen)\n",
    "\n",
    "sns.set_style(\"darkgrid\")\n",
    "plt.figure(figsize=(30, 15))\n",
    "plt.show()"
   ]
  },
  {
   "cell_type": "code",
   "execution_count": 7,
   "metadata": {
    "execution": {
     "iopub.execute_input": "2023-03-23T00:39:07.413165Z",
     "iopub.status.busy": "2023-03-23T00:39:07.412523Z",
     "iopub.status.idle": "2023-03-23T00:39:07.418685Z",
     "shell.execute_reply": "2023-03-23T00:39:07.417640Z",
     "shell.execute_reply.started": "2023-03-23T00:39:07.413123Z"
    }
   },
   "outputs": [],
   "source": [
    "SEQ_LEN = 50"
   ]
  },
  {
   "cell_type": "code",
   "execution_count": 8,
   "metadata": {
    "execution": {
     "iopub.execute_input": "2023-03-23T00:39:07.422542Z",
     "iopub.status.busy": "2023-03-23T00:39:07.421365Z",
     "iopub.status.idle": "2023-03-23T00:39:11.422095Z",
     "shell.execute_reply": "2023-03-23T00:39:11.420941Z",
     "shell.execute_reply.started": "2023-03-23T00:39:07.422503Z"
    }
   },
   "outputs": [],
   "source": [
    "from transformers import AutoTokenizer\n",
    "\n",
    "tokenizer = AutoTokenizer.from_pretrained('bert-base-cased')"
   ]
  },
  {
   "cell_type": "code",
   "execution_count": 9,
   "metadata": {
    "execution": {
     "iopub.execute_input": "2023-03-23T00:39:11.424313Z",
     "iopub.status.busy": "2023-03-23T00:39:11.423871Z",
     "iopub.status.idle": "2023-03-23T00:39:11.433676Z",
     "shell.execute_reply": "2023-03-23T00:39:11.432637Z",
     "shell.execute_reply.started": "2023-03-23T00:39:11.424271Z"
    }
   },
   "outputs": [
    {
     "data": {
      "text/plain": [
       "((8529, 50), (8529, 50))"
      ]
     },
     "execution_count": 9,
     "metadata": {},
     "output_type": "execute_result"
    }
   ],
   "source": [
    "Xids = np.zeros((len(tsv_data), SEQ_LEN))\n",
    "Xmask = np.zeros((len(tsv_data), SEQ_LEN))\n",
    "\n",
    "Xids.shape, Xmask.shape"
   ]
  },
  {
   "cell_type": "code",
   "execution_count": 10,
   "metadata": {
    "execution": {
     "iopub.execute_input": "2023-03-23T00:39:11.435855Z",
     "iopub.status.busy": "2023-03-23T00:39:11.435382Z",
     "iopub.status.idle": "2023-03-23T00:39:16.708491Z",
     "shell.execute_reply": "2023-03-23T00:39:16.707449Z",
     "shell.execute_reply.started": "2023-03-23T00:39:11.435814Z"
    }
   },
   "outputs": [],
   "source": [
    "for i, sequence in enumerate(tsv_data[\"Phrase\"]):\n",
    "    tokens = tokenizer.encode_plus(sequence, max_length=SEQ_LEN, \n",
    "                               truncation=True, padding=\"max_length\",\n",
    "                               add_special_tokens=True, return_token_type_ids=False,\n",
    "                               return_attention_mask=True, return_tensors=\"tf\"\n",
    "                              )\n",
    "    Xids[i, :], Xmask[i, :] = tokens[\"input_ids\"], tokens[\"attention_mask\"]"
   ]
  },
  {
   "cell_type": "code",
   "execution_count": 11,
   "metadata": {
    "execution": {
     "iopub.execute_input": "2023-03-23T00:39:16.710634Z",
     "iopub.status.busy": "2023-03-23T00:39:16.710239Z",
     "iopub.status.idle": "2023-03-23T00:39:16.718239Z",
     "shell.execute_reply": "2023-03-23T00:39:16.717133Z",
     "shell.execute_reply.started": "2023-03-23T00:39:16.710594Z"
    }
   },
   "outputs": [
    {
     "data": {
      "text/plain": [
       "array([  101.,   138.,  1326.,  1104., 13936., 25265., 16913., 15107.,\n",
       "        1103.,  8050.,  2553.,  1115.,  1184.,  1110.,  1363.,  1111.,\n",
       "        1103., 20398.,  1110.,  1145.,  1363.,  1111.,  1103.,   176.,\n",
       "        9900.,   117.,  1199.,  1104.,  1134.,  5411.,  1821., 14225.,\n",
       "        1133.,  3839.,  1104.,  1134.,  7919.,  1106.,  1277.,  1104.,\n",
       "         170.,  1642.,   119.,   102.,     0.,     0.,     0.,     0.,\n",
       "           0.,     0.])"
      ]
     },
     "execution_count": 11,
     "metadata": {},
     "output_type": "execute_result"
    }
   ],
   "source": [
    "Xids[0]"
   ]
  },
  {
   "cell_type": "code",
   "execution_count": 12,
   "metadata": {
    "execution": {
     "iopub.execute_input": "2023-03-23T00:39:16.720754Z",
     "iopub.status.busy": "2023-03-23T00:39:16.720001Z",
     "iopub.status.idle": "2023-03-23T00:39:16.735683Z",
     "shell.execute_reply": "2023-03-23T00:39:16.734484Z",
     "shell.execute_reply.started": "2023-03-23T00:39:16.720715Z"
    }
   },
   "outputs": [
    {
     "data": {
      "text/plain": [
       "array([1., 1., 1., 1., 1., 1., 1., 1., 1., 1., 1., 1., 1., 1., 1., 1., 1.,\n",
       "       1., 1., 1., 1., 1., 1., 1., 1., 1., 1., 1., 1., 1., 1., 1., 1., 1.,\n",
       "       1., 1., 1., 1., 1., 1., 1., 1., 1., 1., 0., 0., 0., 0., 0., 0.])"
      ]
     },
     "execution_count": 12,
     "metadata": {},
     "output_type": "execute_result"
    }
   ],
   "source": [
    "Xmask[0]"
   ]
  },
  {
   "cell_type": "code",
   "execution_count": 13,
   "metadata": {
    "execution": {
     "iopub.execute_input": "2023-03-23T00:39:16.737899Z",
     "iopub.status.busy": "2023-03-23T00:39:16.737391Z",
     "iopub.status.idle": "2023-03-23T00:39:16.750619Z",
     "shell.execute_reply": "2023-03-23T00:39:16.749641Z",
     "shell.execute_reply.started": "2023-03-23T00:39:16.737832Z"
    }
   },
   "outputs": [
    {
     "data": {
      "text/plain": [
       "3    2321\n",
       "1    2200\n",
       "2    1655\n",
       "4    1281\n",
       "0    1072\n",
       "Name: Sentiment, dtype: int64"
      ]
     },
     "execution_count": 13,
     "metadata": {},
     "output_type": "execute_result"
    }
   ],
   "source": [
    "tsv_data[\"Sentiment\"].value_counts()"
   ]
  },
  {
   "cell_type": "code",
   "execution_count": 14,
   "metadata": {
    "execution": {
     "iopub.execute_input": "2023-03-23T00:39:16.757882Z",
     "iopub.status.busy": "2023-03-23T00:39:16.757615Z",
     "iopub.status.idle": "2023-03-23T00:39:16.768220Z",
     "shell.execute_reply": "2023-03-23T00:39:16.767231Z",
     "shell.execute_reply.started": "2023-03-23T00:39:16.757857Z"
    }
   },
   "outputs": [
    {
     "data": {
      "text/plain": [
       "array([[0., 0., 0., 0., 0.],\n",
       "       [0., 0., 0., 0., 0.],\n",
       "       [0., 0., 0., 0., 0.],\n",
       "       ...,\n",
       "       [0., 0., 0., 0., 0.],\n",
       "       [0., 0., 0., 0., 0.],\n",
       "       [0., 0., 0., 0., 0.]])"
      ]
     },
     "execution_count": 14,
     "metadata": {},
     "output_type": "execute_result"
    }
   ],
   "source": [
    "arr = tsv_data[\"Sentiment\"].values\n",
    "labels = np.zeros((arr.size, arr.max()+1))\n",
    "\n",
    "labels"
   ]
  },
  {
   "cell_type": "code",
   "execution_count": 15,
   "metadata": {
    "execution": {
     "iopub.execute_input": "2023-03-23T00:39:16.770401Z",
     "iopub.status.busy": "2023-03-23T00:39:16.769891Z",
     "iopub.status.idle": "2023-03-23T00:39:16.780973Z",
     "shell.execute_reply": "2023-03-23T00:39:16.780035Z",
     "shell.execute_reply.started": "2023-03-23T00:39:16.770359Z"
    }
   },
   "outputs": [
    {
     "data": {
      "text/plain": [
       "array([[0., 1., 0., 0., 0.],\n",
       "       [0., 0., 0., 0., 1.],\n",
       "       [0., 1., 0., 0., 0.],\n",
       "       ...,\n",
       "       [0., 1., 0., 0., 0.],\n",
       "       [0., 1., 0., 0., 0.],\n",
       "       [0., 0., 1., 0., 0.]])"
      ]
     },
     "execution_count": 15,
     "metadata": {},
     "output_type": "execute_result"
    }
   ],
   "source": [
    "labels[np.arange(arr.size), arr] = 1\n",
    "labels"
   ]
  },
  {
   "cell_type": "code",
   "execution_count": 16,
   "metadata": {
    "execution": {
     "iopub.execute_input": "2023-03-23T00:39:16.782983Z",
     "iopub.status.busy": "2023-03-23T00:39:16.782541Z",
     "iopub.status.idle": "2023-03-23T00:39:16.803429Z",
     "shell.execute_reply": "2023-03-23T00:39:16.802460Z",
     "shell.execute_reply.started": "2023-03-23T00:39:16.782946Z"
    }
   },
   "outputs": [],
   "source": [
    "with open(\"./Dataset.npz\", \"wb\") as f:\n",
    "    np.savez(f, Xids = Xids, Xmask = Xmask, labels = labels)"
   ]
  },
  {
   "cell_type": "code",
   "execution_count": 17,
   "metadata": {
    "execution": {
     "iopub.execute_input": "2023-03-23T00:39:16.805302Z",
     "iopub.status.busy": "2023-03-23T00:39:16.804807Z",
     "iopub.status.idle": "2023-03-23T00:39:16.810766Z",
     "shell.execute_reply": "2023-03-23T00:39:16.809667Z",
     "shell.execute_reply.started": "2023-03-23T00:39:16.805261Z"
    }
   },
   "outputs": [],
   "source": [
    "del Xids, Xmask, labels, tsv_data"
   ]
  },
  {
   "cell_type": "code",
   "execution_count": 18,
   "metadata": {
    "execution": {
     "iopub.execute_input": "2023-03-23T00:39:16.812726Z",
     "iopub.status.busy": "2023-03-23T00:39:16.812128Z",
     "iopub.status.idle": "2023-03-23T00:39:16.833790Z",
     "shell.execute_reply": "2023-03-23T00:39:16.833076Z",
     "shell.execute_reply.started": "2023-03-23T00:39:16.812690Z"
    }
   },
   "outputs": [],
   "source": [
    "with open(\"./Dataset.npz\", \"rb\") as f:\n",
    "    data = np.load(f)\n",
    "    \n",
    "    Xids = data[\"Xids\"]\n",
    "    Xmask = data[\"Xmask\"]\n",
    "    labels = data[\"labels\"]"
   ]
  },
  {
   "cell_type": "code",
   "execution_count": 19,
   "metadata": {
    "execution": {
     "iopub.execute_input": "2023-03-23T00:39:16.835707Z",
     "iopub.status.busy": "2023-03-23T00:39:16.835314Z",
     "iopub.status.idle": "2023-03-23T00:39:16.843260Z",
     "shell.execute_reply": "2023-03-23T00:39:16.841917Z",
     "shell.execute_reply.started": "2023-03-23T00:39:16.835668Z"
    }
   },
   "outputs": [
    {
     "data": {
      "text/plain": [
       "((8529, 50), (8529, 50), (8529, 5))"
      ]
     },
     "execution_count": 19,
     "metadata": {},
     "output_type": "execute_result"
    }
   ],
   "source": [
    "Xids.shape, Xmask.shape, labels.shape"
   ]
  },
  {
   "cell_type": "code",
   "execution_count": 20,
   "metadata": {
    "execution": {
     "iopub.execute_input": "2023-03-23T00:39:16.845806Z",
     "iopub.status.busy": "2023-03-23T00:39:16.845066Z",
     "iopub.status.idle": "2023-03-23T00:39:16.854569Z",
     "shell.execute_reply": "2023-03-23T00:39:16.853040Z",
     "shell.execute_reply.started": "2023-03-23T00:39:16.845748Z"
    }
   },
   "outputs": [
    {
     "data": {
      "text/plain": [
       "[]"
      ]
     },
     "execution_count": 20,
     "metadata": {},
     "output_type": "execute_result"
    }
   ],
   "source": [
    "tf.config.experimental.list_logical_devices(\"GPU\")"
   ]
  },
  {
   "cell_type": "code",
   "execution_count": 21,
   "metadata": {
    "execution": {
     "iopub.execute_input": "2023-03-23T00:39:16.858474Z",
     "iopub.status.busy": "2023-03-23T00:39:16.856763Z",
     "iopub.status.idle": "2023-03-23T00:39:16.889233Z",
     "shell.execute_reply": "2023-03-23T00:39:16.888238Z",
     "shell.execute_reply.started": "2023-03-23T00:39:16.858436Z"
    }
   },
   "outputs": [],
   "source": [
    "dataset = tf.data.Dataset.from_tensor_slices((Xids, Xmask, labels))"
   ]
  },
  {
   "cell_type": "code",
   "execution_count": 22,
   "metadata": {
    "execution": {
     "iopub.execute_input": "2023-03-23T00:39:16.891177Z",
     "iopub.status.busy": "2023-03-23T00:39:16.890586Z",
     "iopub.status.idle": "2023-03-23T00:39:16.996839Z",
     "shell.execute_reply": "2023-03-23T00:39:16.995720Z",
     "shell.execute_reply.started": "2023-03-23T00:39:16.891139Z"
    }
   },
   "outputs": [
    {
     "name": "stdout",
     "output_type": "stream",
     "text": [
      "(<tf.Tensor: shape=(50,), dtype=float64, numpy=\n",
      "array([  101.,   138.,  1326.,  1104., 13936., 25265., 16913., 15107.,\n",
      "        1103.,  8050.,  2553.,  1115.,  1184.,  1110.,  1363.,  1111.,\n",
      "        1103., 20398.,  1110.,  1145.,  1363.,  1111.,  1103.,   176.,\n",
      "        9900.,   117.,  1199.,  1104.,  1134.,  5411.,  1821., 14225.,\n",
      "        1133.,  3839.,  1104.,  1134.,  7919.,  1106.,  1277.,  1104.,\n",
      "         170.,  1642.,   119.,   102.,     0.,     0.,     0.,     0.,\n",
      "           0.,     0.])>, <tf.Tensor: shape=(50,), dtype=float64, numpy=\n",
      "array([1., 1., 1., 1., 1., 1., 1., 1., 1., 1., 1., 1., 1., 1., 1., 1., 1.,\n",
      "       1., 1., 1., 1., 1., 1., 1., 1., 1., 1., 1., 1., 1., 1., 1., 1., 1.,\n",
      "       1., 1., 1., 1., 1., 1., 1., 1., 1., 1., 0., 0., 0., 0., 0., 0.])>, <tf.Tensor: shape=(5,), dtype=float64, numpy=array([0., 1., 0., 0., 0.])>)\n"
     ]
    },
    {
     "name": "stderr",
     "output_type": "stream",
     "text": [
      "2023-03-27 18:45:52.811296: I tensorflow/core/common_runtime/executor.cc:1197] [/device:CPU:0] (DEBUG INFO) Executor start aborting (this does not indicate an error and you can ignore this message): INVALID_ARGUMENT: You must feed a value for placeholder tensor 'Placeholder/_2' with dtype double and shape [8529,5]\n",
      "\t [[{{node Placeholder/_2}}]]\n"
     ]
    }
   ],
   "source": [
    "for i in dataset.take(1):\n",
    "    print(i)"
   ]
  },
  {
   "cell_type": "code",
   "execution_count": 23,
   "metadata": {
    "execution": {
     "iopub.execute_input": "2023-03-23T00:39:16.998822Z",
     "iopub.status.busy": "2023-03-23T00:39:16.998168Z",
     "iopub.status.idle": "2023-03-23T00:39:17.004436Z",
     "shell.execute_reply": "2023-03-23T00:39:17.003376Z",
     "shell.execute_reply.started": "2023-03-23T00:39:16.998783Z"
    }
   },
   "outputs": [],
   "source": [
    "def map_func(input_ids, masks, labels):\n",
    "    return {\"input_ids\": input_ids, \"attention_mask\": masks}, labels"
   ]
  },
  {
   "cell_type": "code",
   "execution_count": 24,
   "metadata": {
    "execution": {
     "iopub.execute_input": "2023-03-23T00:39:17.006686Z",
     "iopub.status.busy": "2023-03-23T00:39:17.005751Z",
     "iopub.status.idle": "2023-03-23T00:39:17.092489Z",
     "shell.execute_reply": "2023-03-23T00:39:17.091398Z",
     "shell.execute_reply.started": "2023-03-23T00:39:17.006647Z"
    }
   },
   "outputs": [
    {
     "name": "stdout",
     "output_type": "stream",
     "text": [
      "({'input_ids': <tf.Tensor: shape=(50,), dtype=float64, numpy=\n",
      "array([  101.,   138.,  1326.,  1104., 13936., 25265., 16913., 15107.,\n",
      "        1103.,  8050.,  2553.,  1115.,  1184.,  1110.,  1363.,  1111.,\n",
      "        1103., 20398.,  1110.,  1145.,  1363.,  1111.,  1103.,   176.,\n",
      "        9900.,   117.,  1199.,  1104.,  1134.,  5411.,  1821., 14225.,\n",
      "        1133.,  3839.,  1104.,  1134.,  7919.,  1106.,  1277.,  1104.,\n",
      "         170.,  1642.,   119.,   102.,     0.,     0.,     0.,     0.,\n",
      "           0.,     0.])>, 'attention_mask': <tf.Tensor: shape=(50,), dtype=float64, numpy=\n",
      "array([1., 1., 1., 1., 1., 1., 1., 1., 1., 1., 1., 1., 1., 1., 1., 1., 1.,\n",
      "       1., 1., 1., 1., 1., 1., 1., 1., 1., 1., 1., 1., 1., 1., 1., 1., 1.,\n",
      "       1., 1., 1., 1., 1., 1., 1., 1., 1., 1., 0., 0., 0., 0., 0., 0.])>}, <tf.Tensor: shape=(5,), dtype=float64, numpy=array([0., 1., 0., 0., 0.])>)\n"
     ]
    },
    {
     "name": "stderr",
     "output_type": "stream",
     "text": [
      "2023-03-27 18:45:52.880629: I tensorflow/core/common_runtime/executor.cc:1197] [/device:CPU:0] (DEBUG INFO) Executor start aborting (this does not indicate an error and you can ignore this message): INVALID_ARGUMENT: You must feed a value for placeholder tensor 'Placeholder/_2' with dtype double and shape [8529,5]\n",
      "\t [[{{node Placeholder/_2}}]]\n"
     ]
    }
   ],
   "source": [
    "dataset = dataset.map(map_func)\n",
    "\n",
    "for i in dataset.take(1):\n",
    "    print(i)"
   ]
  },
  {
   "cell_type": "code",
   "execution_count": 25,
   "metadata": {
    "execution": {
     "iopub.execute_input": "2023-03-23T00:39:17.095434Z",
     "iopub.status.busy": "2023-03-23T00:39:17.093906Z",
     "iopub.status.idle": "2023-03-23T00:39:17.109052Z",
     "shell.execute_reply": "2023-03-23T00:39:17.107997Z",
     "shell.execute_reply.started": "2023-03-23T00:39:17.095395Z"
    }
   },
   "outputs": [],
   "source": [
    "dataset = dataset.shuffle(1000000).batch(32)"
   ]
  },
  {
   "cell_type": "code",
   "execution_count": 26,
   "metadata": {
    "execution": {
     "iopub.execute_input": "2023-03-23T00:39:17.111334Z",
     "iopub.status.busy": "2023-03-23T00:39:17.110942Z",
     "iopub.status.idle": "2023-03-23T00:39:17.117725Z",
     "shell.execute_reply": "2023-03-23T00:39:17.116555Z",
     "shell.execute_reply.started": "2023-03-23T00:39:17.111298Z"
    }
   },
   "outputs": [],
   "source": [
    "DS_LEN = len(dataset)"
   ]
  },
  {
   "cell_type": "code",
   "execution_count": 27,
   "metadata": {
    "execution": {
     "iopub.execute_input": "2023-03-23T00:39:17.120232Z",
     "iopub.status.busy": "2023-03-23T00:39:17.119825Z",
     "iopub.status.idle": "2023-03-23T00:39:17.130042Z",
     "shell.execute_reply": "2023-03-23T00:39:17.129048Z",
     "shell.execute_reply.started": "2023-03-23T00:39:17.120195Z"
    }
   },
   "outputs": [],
   "source": [
    "SPLIT = 0.9\n",
    "\n",
    "train_data = dataset.take(round(DS_LEN * SPLIT))\n",
    "val_data = dataset.skip(round(DS_LEN * SPLIT))\n",
    "\n",
    "del dataset"
   ]
  },
  {
   "cell_type": "code",
   "execution_count": 33,
   "metadata": {
    "execution": {
     "iopub.execute_input": "2023-03-23T00:39:17.132205Z",
     "iopub.status.busy": "2023-03-23T00:39:17.131801Z",
     "iopub.status.idle": "2023-03-23T00:39:29.146179Z",
     "shell.execute_reply": "2023-03-23T00:39:29.145041Z",
     "shell.execute_reply.started": "2023-03-23T00:39:17.132153Z"
    }
   },
   "outputs": [
    {
     "name": "stderr",
     "output_type": "stream",
     "text": [
      "Some layers from the model checkpoint at bert-base-cased were not used when initializing TFBertModel: ['nsp___cls', 'mlm___cls']\n",
      "- This IS expected if you are initializing TFBertModel from the checkpoint of a model trained on another task or with another architecture (e.g. initializing a BertForSequenceClassification model from a BertForPreTraining model).\n",
      "- This IS NOT expected if you are initializing TFBertModel from the checkpoint of a model that you expect to be exactly identical (initializing a BertForSequenceClassification model from a BertForSequenceClassification model).\n",
      "All the layers of TFBertModel were initialized from the model checkpoint at bert-base-cased.\n",
      "If your task is similar to the task the model of the checkpoint was trained on, you can already use TFBertModel for predictions without further training.\n"
     ]
    }
   ],
   "source": [
    "from transformers import TFAutoModel\n",
    "\n",
    "bert = TFAutoModel.from_pretrained(\"bert-base-cased\")"
   ]
  },
  {
   "cell_type": "code",
   "execution_count": 34,
   "metadata": {
    "execution": {
     "iopub.execute_input": "2023-03-23T00:39:29.148126Z",
     "iopub.status.busy": "2023-03-23T00:39:29.147788Z",
     "iopub.status.idle": "2023-03-23T00:39:34.954036Z",
     "shell.execute_reply": "2023-03-23T00:39:34.952922Z",
     "shell.execute_reply.started": "2023-03-23T00:39:29.148088Z"
    }
   },
   "outputs": [],
   "source": [
    "input_ids = tf.keras.layers.Input(shape=(SEQ_LEN, ), name=\"input_ids\", dtype=\"int32\")\n",
    "mask = tf.keras.layers.Input(shape=(SEQ_LEN, ), name=\"attention_mask\", dtype=\"int32\")\n",
    "\n",
    "embeddings = bert(input_ids, attention_mask=mask)[0]\n",
    "\n",
    "X = tf.keras.layers.GlobalMaxPool1D()(embeddings)\n",
    "X = tf.keras.layers.BatchNormalization()(X)\n",
    "X = tf.keras.layers.Dense(64, activation=\"relu\")(X)\n",
    "X = tf.keras.layers.Dense(128, activation=\"relu\")(X)\n",
    "X = tf.keras.layers.Dropout(0.1)(X)\n",
    "X = tf.keras.layers.Dense(64, activation=\"relu\")(X)\n",
    "X = tf.keras.layers.Dense(32, activation=\"relu\")(X)\n",
    "\n",
    "y = tf.keras.layers.Dense(5, activation=\"softmax\",  name=\"outputs\")(X)\n",
    "\n",
    "model = tf.keras.Model(inputs=[input_ids, mask], outputs=y)\n",
    "\n",
    "model.layers[2].trainable = False"
   ]
  },
  {
   "cell_type": "code",
   "execution_count": 35,
   "metadata": {
    "execution": {
     "iopub.execute_input": "2023-03-23T00:39:34.955683Z",
     "iopub.status.busy": "2023-03-23T00:39:34.955323Z",
     "iopub.status.idle": "2023-03-23T00:39:35.025162Z",
     "shell.execute_reply": "2023-03-23T00:39:35.024383Z",
     "shell.execute_reply.started": "2023-03-23T00:39:34.955647Z"
    }
   },
   "outputs": [
    {
     "name": "stdout",
     "output_type": "stream",
     "text": [
      "Model: \"model_1\"\n",
      "__________________________________________________________________________________________________\n",
      " Layer (type)                   Output Shape         Param #     Connected to                     \n",
      "==================================================================================================\n",
      " input_ids (InputLayer)         [(None, 50)]         0           []                               \n",
      "                                                                                                  \n",
      " attention_mask (InputLayer)    [(None, 50)]         0           []                               \n",
      "                                                                                                  \n",
      " tf_bert_model_1 (TFBertModel)  TFBaseModelOutputWi  108310272   ['input_ids[0][0]',              \n",
      "                                thPoolingAndCrossAt               'attention_mask[0][0]']         \n",
      "                                tentions(last_hidde                                               \n",
      "                                n_state=(None, 50,                                                \n",
      "                                768),                                                             \n",
      "                                 pooler_output=(Non                                               \n",
      "                                e, 768),                                                          \n",
      "                                 past_key_values=No                                               \n",
      "                                ne, hidden_states=N                                               \n",
      "                                one, attentions=Non                                               \n",
      "                                e, cross_attentions                                               \n",
      "                                =None)                                                            \n",
      "                                                                                                  \n",
      " global_max_pooling1d_1 (Global  (None, 768)         0           ['tf_bert_model_1[0][0]']        \n",
      " MaxPooling1D)                                                                                    \n",
      "                                                                                                  \n",
      " batch_normalization_1 (BatchNo  (None, 768)         3072        ['global_max_pooling1d_1[0][0]'] \n",
      " rmalization)                                                                                     \n",
      "                                                                                                  \n",
      " dense_4 (Dense)                (None, 64)           49216       ['batch_normalization_1[0][0]']  \n",
      "                                                                                                  \n",
      " dense_5 (Dense)                (None, 128)          8320        ['dense_4[0][0]']                \n",
      "                                                                                                  \n",
      " dropout_75 (Dropout)           (None, 128)          0           ['dense_5[0][0]']                \n",
      "                                                                                                  \n",
      " dense_6 (Dense)                (None, 64)           8256        ['dropout_75[0][0]']             \n",
      "                                                                                                  \n",
      " dense_7 (Dense)                (None, 32)           2080        ['dense_6[0][0]']                \n",
      "                                                                                                  \n",
      " outputs (Dense)                (None, 5)            165         ['dense_7[0][0]']                \n",
      "                                                                                                  \n",
      "==================================================================================================\n",
      "Total params: 108,381,381\n",
      "Trainable params: 69,573\n",
      "Non-trainable params: 108,311,808\n",
      "__________________________________________________________________________________________________\n"
     ]
    }
   ],
   "source": [
    "model.summary()"
   ]
  },
  {
   "cell_type": "code",
   "execution_count": 38,
   "metadata": {
    "execution": {
     "iopub.execute_input": "2023-03-23T00:39:35.026863Z",
     "iopub.status.busy": "2023-03-23T00:39:35.026210Z",
     "iopub.status.idle": "2023-03-23T00:39:35.058500Z",
     "shell.execute_reply": "2023-03-23T00:39:35.057520Z",
     "shell.execute_reply.started": "2023-03-23T00:39:35.026824Z"
    }
   },
   "outputs": [],
   "source": [
    "callbacks = [tf.keras.callbacks.EarlyStopping(monitor=\"val_loss\",patience=8),\n",
    "            tf.keras.callbacks.ModelCheckpoint(\"./dense_transformer_model.h5\",verbose= 1 ,save_best_only=True)]\n",
    "\n",
    "optimizer = tf.keras.optimizers.Adam(0.001)\n",
    "loss = tf.keras.losses.CategoricalCrossentropy()\n",
    "acc = tf.keras.metrics.CategoricalAccuracy(\"accuracy\")\n",
    "\n",
    "model.compile(optimizer=optimizer, loss=loss, metrics=[acc])"
   ]
  },
  {
   "cell_type": "code",
   "execution_count": 39,
   "metadata": {
    "execution": {
     "iopub.execute_input": "2023-03-23T00:39:35.060654Z",
     "iopub.status.busy": "2023-03-23T00:39:35.059879Z",
     "iopub.status.idle": "2023-03-23T01:28:58.171471Z",
     "shell.execute_reply": "2023-03-23T01:28:58.170405Z",
     "shell.execute_reply.started": "2023-03-23T00:39:35.060617Z"
    }
   },
   "outputs": [
    {
     "name": "stdout",
     "output_type": "stream",
     "text": [
      "Epoch 1/200\n",
      "240/240 [==============================] - ETA: 0s - loss: 1.3265 - accuracy: 0.4201\n",
      "Epoch 1: val_loss improved from inf to 1.21788, saving model to ./dense_transformer_model.h5\n",
      "240/240 [==============================] - 533s 2s/step - loss: 1.3265 - accuracy: 0.4201 - val_loss: 1.2179 - val_accuracy: 0.4452\n",
      "Epoch 2/200\n",
      "240/240 [==============================] - ETA: 0s - loss: 1.2727 - accuracy: 0.4514\n",
      "Epoch 2: val_loss improved from 1.21788 to 1.15878, saving model to ./dense_transformer_model.h5\n",
      "240/240 [==============================] - 506s 2s/step - loss: 1.2727 - accuracy: 0.4514 - val_loss: 1.1588 - val_accuracy: 0.5077\n",
      "Epoch 3/200\n",
      "240/240 [==============================] - ETA: 0s - loss: 1.2525 - accuracy: 0.4531\n",
      "Epoch 3: val_loss improved from 1.15878 to 1.12645, saving model to ./dense_transformer_model.h5\n",
      "240/240 [==============================] - 510s 2s/step - loss: 1.2525 - accuracy: 0.4531 - val_loss: 1.1265 - val_accuracy: 0.5241\n",
      "Epoch 4/200\n",
      "240/240 [==============================] - ETA: 0s - loss: 1.2213 - accuracy: 0.4737\n",
      "Epoch 4: val_loss improved from 1.12645 to 1.10156, saving model to ./dense_transformer_model.h5\n",
      "240/240 [==============================] - 484s 2s/step - loss: 1.2213 - accuracy: 0.4737 - val_loss: 1.1016 - val_accuracy: 0.5383\n",
      "Epoch 5/200\n",
      "240/240 [==============================] - ETA: 0s - loss: 1.2021 - accuracy: 0.4799\n",
      "Epoch 5: val_loss did not improve from 1.10156\n",
      "240/240 [==============================] - 480s 2s/step - loss: 1.2021 - accuracy: 0.4799 - val_loss: 1.1026 - val_accuracy: 0.5347\n",
      "Epoch 6/200\n",
      "240/240 [==============================] - ETA: 0s - loss: 1.1792 - accuracy: 0.4935\n",
      "Epoch 6: val_loss improved from 1.10156 to 1.01620, saving model to ./dense_transformer_model.h5\n",
      "240/240 [==============================] - 505s 2s/step - loss: 1.1792 - accuracy: 0.4935 - val_loss: 1.0162 - val_accuracy: 0.5948\n",
      "Epoch 7/200\n",
      "240/240 [==============================] - ETA: 0s - loss: 1.1637 - accuracy: 0.4956\n",
      "Epoch 7: val_loss did not improve from 1.01620\n",
      "240/240 [==============================] - 555s 2s/step - loss: 1.1637 - accuracy: 0.4956 - val_loss: 1.0279 - val_accuracy: 0.5783\n",
      "Epoch 8/200\n",
      "240/240 [==============================] - ETA: 0s - loss: 1.1532 - accuracy: 0.5004\n",
      "Epoch 8: val_loss improved from 1.01620 to 0.99138, saving model to ./dense_transformer_model.h5\n",
      "240/240 [==============================] - 545s 2s/step - loss: 1.1532 - accuracy: 0.5004 - val_loss: 0.9914 - val_accuracy: 0.5854\n",
      "Epoch 9/200\n",
      "240/240 [==============================] - ETA: 0s - loss: 1.1334 - accuracy: 0.5198\n",
      "Epoch 9: val_loss improved from 0.99138 to 0.93211, saving model to ./dense_transformer_model.h5\n",
      "240/240 [==============================] - 568s 2s/step - loss: 1.1334 - accuracy: 0.5198 - val_loss: 0.9321 - val_accuracy: 0.6078\n",
      "Epoch 10/200\n",
      "240/240 [==============================] - ETA: 0s - loss: 1.1040 - accuracy: 0.5305\n",
      "Epoch 10: val_loss did not improve from 0.93211\n",
      "240/240 [==============================] - 555s 2s/step - loss: 1.1040 - accuracy: 0.5305 - val_loss: 0.9363 - val_accuracy: 0.6054\n",
      "Epoch 11/200\n",
      "240/240 [==============================] - ETA: 0s - loss: 1.0945 - accuracy: 0.5314\n",
      "Epoch 11: val_loss improved from 0.93211 to 0.88495, saving model to ./dense_transformer_model.h5\n",
      "240/240 [==============================] - 533s 2s/step - loss: 1.0945 - accuracy: 0.5314 - val_loss: 0.8850 - val_accuracy: 0.6290\n",
      "Epoch 12/200\n",
      "240/240 [==============================] - ETA: 0s - loss: 1.0939 - accuracy: 0.5350\n",
      "Epoch 12: val_loss improved from 0.88495 to 0.88041, saving model to ./dense_transformer_model.h5\n",
      "240/240 [==============================] - 510s 2s/step - loss: 1.0939 - accuracy: 0.5350 - val_loss: 0.8804 - val_accuracy: 0.6514\n",
      "Epoch 13/200\n",
      "240/240 [==============================] - ETA: 0s - loss: 1.0686 - accuracy: 0.5467\n",
      "Epoch 13: val_loss improved from 0.88041 to 0.85545, saving model to ./dense_transformer_model.h5\n",
      "240/240 [==============================] - 502s 2s/step - loss: 1.0686 - accuracy: 0.5467 - val_loss: 0.8555 - val_accuracy: 0.6608\n",
      "Epoch 14/200\n",
      "240/240 [==============================] - ETA: 0s - loss: 1.0650 - accuracy: 0.5535\n",
      "Epoch 14: val_loss improved from 0.85545 to 0.81546, saving model to ./dense_transformer_model.h5\n",
      "240/240 [==============================] - 481s 2s/step - loss: 1.0650 - accuracy: 0.5535 - val_loss: 0.8155 - val_accuracy: 0.6996\n",
      "Epoch 15/200\n",
      "240/240 [==============================] - ETA: 0s - loss: 1.0470 - accuracy: 0.5633\n",
      "Epoch 15: val_loss improved from 0.81546 to 0.76893, saving model to ./dense_transformer_model.h5\n",
      "240/240 [==============================] - 507s 2s/step - loss: 1.0470 - accuracy: 0.5633 - val_loss: 0.7689 - val_accuracy: 0.7055\n",
      "Epoch 16/200\n",
      "240/240 [==============================] - ETA: 0s - loss: 1.0342 - accuracy: 0.5620\n",
      "Epoch 16: val_loss did not improve from 0.76893\n",
      "240/240 [==============================] - 521s 2s/step - loss: 1.0342 - accuracy: 0.5620 - val_loss: 0.7787 - val_accuracy: 0.6879\n",
      "Epoch 17/200\n",
      "240/240 [==============================] - ETA: 0s - loss: 1.0200 - accuracy: 0.5790\n",
      "Epoch 17: val_loss improved from 0.76893 to 0.72927, saving model to ./dense_transformer_model.h5\n",
      "240/240 [==============================] - 503s 2s/step - loss: 1.0200 - accuracy: 0.5790 - val_loss: 0.7293 - val_accuracy: 0.7256\n",
      "Epoch 18/200\n",
      "240/240 [==============================] - ETA: 0s - loss: 1.0048 - accuracy: 0.5721\n",
      "Epoch 18: val_loss did not improve from 0.72927\n",
      "240/240 [==============================] - 519s 2s/step - loss: 1.0048 - accuracy: 0.5721 - val_loss: 0.7398 - val_accuracy: 0.7303\n",
      "Epoch 19/200\n",
      "240/240 [==============================] - ETA: 0s - loss: 1.0012 - accuracy: 0.5794\n",
      "Epoch 19: val_loss improved from 0.72927 to 0.70915, saving model to ./dense_transformer_model.h5\n",
      "240/240 [==============================] - 476s 2s/step - loss: 1.0012 - accuracy: 0.5794 - val_loss: 0.7092 - val_accuracy: 0.7373\n",
      "Epoch 20/200\n",
      "240/240 [==============================] - ETA: 0s - loss: 0.9675 - accuracy: 0.5984\n",
      "Epoch 20: val_loss improved from 0.70915 to 0.68400, saving model to ./dense_transformer_model.h5\n",
      "240/240 [==============================] - 475s 2s/step - loss: 0.9675 - accuracy: 0.5984 - val_loss: 0.6840 - val_accuracy: 0.7468\n",
      "Epoch 21/200\n",
      "240/240 [==============================] - ETA: 0s - loss: 0.9655 - accuracy: 0.5980\n",
      "Epoch 21: val_loss did not improve from 0.68400\n",
      "240/240 [==============================] - 475s 2s/step - loss: 0.9655 - accuracy: 0.5980 - val_loss: 0.6844 - val_accuracy: 0.7621\n",
      "Epoch 22/200\n",
      "240/240 [==============================] - ETA: 0s - loss: 0.9437 - accuracy: 0.6039\n",
      "Epoch 22: val_loss did not improve from 0.68400\n",
      "240/240 [==============================] - 470s 2s/step - loss: 0.9437 - accuracy: 0.6039 - val_loss: 0.6928 - val_accuracy: 0.7468\n",
      "Epoch 23/200\n",
      "240/240 [==============================] - ETA: 0s - loss: 0.9460 - accuracy: 0.6082\n",
      "Epoch 23: val_loss improved from 0.68400 to 0.62685, saving model to ./dense_transformer_model.h5\n",
      "240/240 [==============================] - 477s 2s/step - loss: 0.9460 - accuracy: 0.6082 - val_loss: 0.6268 - val_accuracy: 0.7680\n",
      "Epoch 24/200\n",
      "240/240 [==============================] - ETA: 0s - loss: 0.9304 - accuracy: 0.6211\n",
      "Epoch 24: val_loss improved from 0.62685 to 0.60903, saving model to ./dense_transformer_model.h5\n",
      "240/240 [==============================] - 474s 2s/step - loss: 0.9304 - accuracy: 0.6211 - val_loss: 0.6090 - val_accuracy: 0.7739\n",
      "Epoch 25/200\n",
      "240/240 [==============================] - ETA: 0s - loss: 0.9231 - accuracy: 0.6219\n",
      "Epoch 25: val_loss improved from 0.60903 to 0.60466, saving model to ./dense_transformer_model.h5\n",
      "240/240 [==============================] - 472s 2s/step - loss: 0.9231 - accuracy: 0.6219 - val_loss: 0.6047 - val_accuracy: 0.7762\n",
      "Epoch 26/200\n",
      "240/240 [==============================] - ETA: 0s - loss: 0.9149 - accuracy: 0.6233\n",
      "Epoch 26: val_loss improved from 0.60466 to 0.57503, saving model to ./dense_transformer_model.h5\n",
      "240/240 [==============================] - 478s 2s/step - loss: 0.9149 - accuracy: 0.6233 - val_loss: 0.5750 - val_accuracy: 0.7974\n",
      "Epoch 27/200\n"
     ]
    },
    {
     "name": "stdout",
     "output_type": "stream",
     "text": [
      "240/240 [==============================] - ETA: 0s - loss: 0.8918 - accuracy: 0.6379\n",
      "Epoch 27: val_loss improved from 0.57503 to 0.56868, saving model to ./dense_transformer_model.h5\n",
      "240/240 [==============================] - 470s 2s/step - loss: 0.8918 - accuracy: 0.6379 - val_loss: 0.5687 - val_accuracy: 0.7856\n",
      "Epoch 28/200\n",
      "240/240 [==============================] - ETA: 0s - loss: 0.8908 - accuracy: 0.6430\n",
      "Epoch 28: val_loss did not improve from 0.56868\n",
      "240/240 [==============================] - 474s 2s/step - loss: 0.8908 - accuracy: 0.6430 - val_loss: 0.5696 - val_accuracy: 0.8080\n",
      "Epoch 29/200\n",
      "240/240 [==============================] - ETA: 0s - loss: 0.8797 - accuracy: 0.6477\n",
      "Epoch 29: val_loss improved from 0.56868 to 0.51558, saving model to ./dense_transformer_model.h5\n",
      "240/240 [==============================] - 487s 2s/step - loss: 0.8797 - accuracy: 0.6477 - val_loss: 0.5156 - val_accuracy: 0.8304\n",
      "Epoch 30/200\n",
      "240/240 [==============================] - ETA: 0s - loss: 0.8824 - accuracy: 0.6398\n",
      "Epoch 30: val_loss did not improve from 0.51558\n",
      "240/240 [==============================] - 471s 2s/step - loss: 0.8824 - accuracy: 0.6398 - val_loss: 0.5373 - val_accuracy: 0.8174\n",
      "Epoch 31/200\n",
      "240/240 [==============================] - ETA: 0s - loss: 0.8635 - accuracy: 0.6464\n",
      "Epoch 31: val_loss improved from 0.51558 to 0.49563, saving model to ./dense_transformer_model.h5\n",
      "240/240 [==============================] - 481s 2s/step - loss: 0.8635 - accuracy: 0.6464 - val_loss: 0.4956 - val_accuracy: 0.8351\n",
      "Epoch 32/200\n",
      "240/240 [==============================] - ETA: 0s - loss: 0.8641 - accuracy: 0.6484\n",
      "Epoch 32: val_loss did not improve from 0.49563\n",
      "240/240 [==============================] - 477s 2s/step - loss: 0.8641 - accuracy: 0.6484 - val_loss: 0.5372 - val_accuracy: 0.8021\n",
      "Epoch 33/200\n",
      "240/240 [==============================] - ETA: 0s - loss: 0.8553 - accuracy: 0.6531\n",
      "Epoch 33: val_loss improved from 0.49563 to 0.46510, saving model to ./dense_transformer_model.h5\n",
      "240/240 [==============================] - 472s 2s/step - loss: 0.8553 - accuracy: 0.6531 - val_loss: 0.4651 - val_accuracy: 0.8610\n",
      "Epoch 34/200\n",
      "240/240 [==============================] - ETA: 0s - loss: 0.8372 - accuracy: 0.6574\n",
      "Epoch 34: val_loss did not improve from 0.46510\n",
      "240/240 [==============================] - 477s 2s/step - loss: 0.8372 - accuracy: 0.6574 - val_loss: 0.4933 - val_accuracy: 0.8269\n",
      "Epoch 35/200\n",
      "240/240 [==============================] - ETA: 0s - loss: 0.8267 - accuracy: 0.6680\n",
      "Epoch 35: val_loss did not improve from 0.46510\n",
      "240/240 [==============================] - 470s 2s/step - loss: 0.8267 - accuracy: 0.6680 - val_loss: 0.4905 - val_accuracy: 0.8221\n",
      "Epoch 36/200\n",
      "240/240 [==============================] - ETA: 0s - loss: 0.8274 - accuracy: 0.6681\n",
      "Epoch 36: val_loss improved from 0.46510 to 0.43064, saving model to ./dense_transformer_model.h5\n",
      "240/240 [==============================] - 478s 2s/step - loss: 0.8274 - accuracy: 0.6681 - val_loss: 0.4306 - val_accuracy: 0.8634\n",
      "Epoch 37/200\n",
      "240/240 [==============================] - ETA: 0s - loss: 0.8185 - accuracy: 0.6677\n",
      "Epoch 37: val_loss did not improve from 0.43064\n",
      "240/240 [==============================] - 474s 2s/step - loss: 0.8185 - accuracy: 0.6677 - val_loss: 0.4591 - val_accuracy: 0.8422\n",
      "Epoch 38/200\n",
      "240/240 [==============================] - ETA: 0s - loss: 0.8139 - accuracy: 0.6707\n",
      "Epoch 38: val_loss did not improve from 0.43064\n",
      "240/240 [==============================] - 473s 2s/step - loss: 0.8139 - accuracy: 0.6707 - val_loss: 0.4440 - val_accuracy: 0.8492\n",
      "Epoch 39/200\n",
      "240/240 [==============================] - ETA: 0s - loss: 0.8307 - accuracy: 0.6734\n",
      "Epoch 39: val_loss did not improve from 0.43064\n",
      "240/240 [==============================] - 470s 2s/step - loss: 0.8307 - accuracy: 0.6734 - val_loss: 0.4341 - val_accuracy: 0.8634\n",
      "Epoch 40/200\n",
      "240/240 [==============================] - ETA: 0s - loss: 0.8180 - accuracy: 0.6708\n",
      "Epoch 40: val_loss improved from 0.43064 to 0.42989, saving model to ./dense_transformer_model.h5\n",
      "240/240 [==============================] - 473s 2s/step - loss: 0.8180 - accuracy: 0.6708 - val_loss: 0.4299 - val_accuracy: 0.8681\n",
      "Epoch 41/200\n",
      "240/240 [==============================] - ETA: 0s - loss: 0.8049 - accuracy: 0.6783\n",
      "Epoch 41: val_loss improved from 0.42989 to 0.39636, saving model to ./dense_transformer_model.h5\n",
      "240/240 [==============================] - 472s 2s/step - loss: 0.8049 - accuracy: 0.6783 - val_loss: 0.3964 - val_accuracy: 0.8740\n",
      "Epoch 42/200\n",
      "240/240 [==============================] - ETA: 0s - loss: 0.8036 - accuracy: 0.6784\n",
      "Epoch 42: val_loss improved from 0.39636 to 0.39105, saving model to ./dense_transformer_model.h5\n",
      "240/240 [==============================] - 474s 2s/step - loss: 0.8036 - accuracy: 0.6784 - val_loss: 0.3910 - val_accuracy: 0.8799\n",
      "Epoch 43/200\n",
      "240/240 [==============================] - ETA: 0s - loss: 0.7922 - accuracy: 0.6835\n",
      "Epoch 43: val_loss did not improve from 0.39105\n",
      "240/240 [==============================] - 476s 2s/step - loss: 0.7922 - accuracy: 0.6835 - val_loss: 0.4272 - val_accuracy: 0.8704\n",
      "Epoch 44/200\n",
      "240/240 [==============================] - ETA: 0s - loss: 0.7840 - accuracy: 0.6826\n",
      "Epoch 44: val_loss did not improve from 0.39105\n",
      "240/240 [==============================] - 472s 2s/step - loss: 0.7840 - accuracy: 0.6826 - val_loss: 0.4052 - val_accuracy: 0.8575\n",
      "Epoch 45/200\n",
      "240/240 [==============================] - ETA: 0s - loss: 0.7834 - accuracy: 0.6906\n",
      "Epoch 45: val_loss improved from 0.39105 to 0.39029, saving model to ./dense_transformer_model.h5\n",
      "240/240 [==============================] - 469s 2s/step - loss: 0.7834 - accuracy: 0.6906 - val_loss: 0.3903 - val_accuracy: 0.8775\n",
      "Epoch 46/200\n",
      "240/240 [==============================] - ETA: 0s - loss: 0.7760 - accuracy: 0.6921\n",
      "Epoch 46: val_loss did not improve from 0.39029\n",
      "240/240 [==============================] - 468s 2s/step - loss: 0.7760 - accuracy: 0.6921 - val_loss: 0.3969 - val_accuracy: 0.8693\n",
      "Epoch 47/200\n",
      "240/240 [==============================] - ETA: 0s - loss: 0.7646 - accuracy: 0.6936\n",
      "Epoch 47: val_loss improved from 0.39029 to 0.36982, saving model to ./dense_transformer_model.h5\n",
      "240/240 [==============================] - 468s 2s/step - loss: 0.7646 - accuracy: 0.6936 - val_loss: 0.3698 - val_accuracy: 0.8787\n",
      "Epoch 48/200\n",
      "240/240 [==============================] - ETA: 0s - loss: 0.7731 - accuracy: 0.6913\n",
      "Epoch 48: val_loss did not improve from 0.36982\n",
      "240/240 [==============================] - 470s 2s/step - loss: 0.7731 - accuracy: 0.6913 - val_loss: 0.3891 - val_accuracy: 0.8704\n",
      "Epoch 49/200\n",
      "240/240 [==============================] - ETA: 0s - loss: 0.7605 - accuracy: 0.6958\n",
      "Epoch 49: val_loss did not improve from 0.36982\n",
      "240/240 [==============================] - 469s 2s/step - loss: 0.7605 - accuracy: 0.6958 - val_loss: 0.3722 - val_accuracy: 0.8775\n",
      "Epoch 50/200\n",
      "240/240 [==============================] - ETA: 0s - loss: 0.7608 - accuracy: 0.7018\n",
      "Epoch 50: val_loss improved from 0.36982 to 0.36427, saving model to ./dense_transformer_model.h5\n",
      "240/240 [==============================] - 473s 2s/step - loss: 0.7608 - accuracy: 0.7018 - val_loss: 0.3643 - val_accuracy: 0.8963\n",
      "Epoch 51/200\n",
      "240/240 [==============================] - ETA: 0s - loss: 0.7552 - accuracy: 0.7016\n",
      "Epoch 51: val_loss improved from 0.36427 to 0.36264, saving model to ./dense_transformer_model.h5\n",
      "240/240 [==============================] - 472s 2s/step - loss: 0.7552 - accuracy: 0.7016 - val_loss: 0.3626 - val_accuracy: 0.8834\n",
      "Epoch 52/200\n",
      "240/240 [==============================] - ETA: 0s - loss: 0.7488 - accuracy: 0.7003\n",
      "Epoch 52: val_loss did not improve from 0.36264\n",
      "240/240 [==============================] - 471s 2s/step - loss: 0.7488 - accuracy: 0.7003 - val_loss: 0.3663 - val_accuracy: 0.8834\n",
      "Epoch 53/200\n",
      "240/240 [==============================] - ETA: 0s - loss: 0.7440 - accuracy: 0.7078\n",
      "Epoch 53: val_loss improved from 0.36264 to 0.34336, saving model to ./dense_transformer_model.h5\n",
      "240/240 [==============================] - 471s 2s/step - loss: 0.7440 - accuracy: 0.7078 - val_loss: 0.3434 - val_accuracy: 0.8893\n",
      "Epoch 54/200\n"
     ]
    },
    {
     "name": "stdout",
     "output_type": "stream",
     "text": [
      "240/240 [==============================] - ETA: 0s - loss: 0.7463 - accuracy: 0.7017\n",
      "Epoch 54: val_loss improved from 0.34336 to 0.33687, saving model to ./dense_transformer_model.h5\n",
      "240/240 [==============================] - 468s 2s/step - loss: 0.7463 - accuracy: 0.7017 - val_loss: 0.3369 - val_accuracy: 0.9034\n",
      "Epoch 55/200\n",
      "240/240 [==============================] - ETA: 0s - loss: 0.7508 - accuracy: 0.6999\n",
      "Epoch 55: val_loss improved from 0.33687 to 0.33456, saving model to ./dense_transformer_model.h5\n",
      "240/240 [==============================] - 477s 2s/step - loss: 0.7508 - accuracy: 0.6999 - val_loss: 0.3346 - val_accuracy: 0.9093\n",
      "Epoch 56/200\n",
      "240/240 [==============================] - ETA: 0s - loss: 0.7348 - accuracy: 0.7069\n",
      "Epoch 56: val_loss improved from 0.33456 to 0.32048, saving model to ./dense_transformer_model.h5\n",
      "240/240 [==============================] - 469s 2s/step - loss: 0.7348 - accuracy: 0.7069 - val_loss: 0.3205 - val_accuracy: 0.9081\n",
      "Epoch 57/200\n",
      "240/240 [==============================] - ETA: 0s - loss: 0.7269 - accuracy: 0.7103\n",
      "Epoch 57: val_loss did not improve from 0.32048\n",
      "240/240 [==============================] - 468s 2s/step - loss: 0.7269 - accuracy: 0.7103 - val_loss: 0.3297 - val_accuracy: 0.8999\n",
      "Epoch 58/200\n",
      "240/240 [==============================] - ETA: 0s - loss: 0.7473 - accuracy: 0.7052\n",
      "Epoch 58: val_loss improved from 0.32048 to 0.30613, saving model to ./dense_transformer_model.h5\n",
      "240/240 [==============================] - 470s 2s/step - loss: 0.7473 - accuracy: 0.7052 - val_loss: 0.3061 - val_accuracy: 0.9164\n",
      "Epoch 59/200\n",
      "240/240 [==============================] - ETA: 0s - loss: 0.7310 - accuracy: 0.7105\n",
      "Epoch 59: val_loss did not improve from 0.30613\n",
      "240/240 [==============================] - 469s 2s/step - loss: 0.7310 - accuracy: 0.7105 - val_loss: 0.3210 - val_accuracy: 0.9093\n",
      "Epoch 60/200\n",
      "240/240 [==============================] - ETA: 0s - loss: 0.7212 - accuracy: 0.7182\n",
      "Epoch 60: val_loss did not improve from 0.30613\n",
      "240/240 [==============================] - 468s 2s/step - loss: 0.7212 - accuracy: 0.7182 - val_loss: 0.3313 - val_accuracy: 0.9046\n",
      "Epoch 61/200\n",
      "240/240 [==============================] - ETA: 0s - loss: 0.7191 - accuracy: 0.7167\n",
      "Epoch 61: val_loss improved from 0.30613 to 0.27863, saving model to ./dense_transformer_model.h5\n",
      "240/240 [==============================] - 467s 2s/step - loss: 0.7191 - accuracy: 0.7167 - val_loss: 0.2786 - val_accuracy: 0.9317\n",
      "Epoch 62/200\n",
      "240/240 [==============================] - ETA: 0s - loss: 0.7154 - accuracy: 0.7202\n",
      "Epoch 62: val_loss did not improve from 0.27863\n",
      "240/240 [==============================] - 467s 2s/step - loss: 0.7154 - accuracy: 0.7202 - val_loss: 0.3083 - val_accuracy: 0.9128\n",
      "Epoch 63/200\n",
      "240/240 [==============================] - ETA: 0s - loss: 0.7009 - accuracy: 0.7234\n",
      "Epoch 63: val_loss did not improve from 0.27863\n",
      "240/240 [==============================] - 469s 2s/step - loss: 0.7009 - accuracy: 0.7234 - val_loss: 0.3042 - val_accuracy: 0.9058\n",
      "Epoch 64/200\n",
      "240/240 [==============================] - ETA: 0s - loss: 0.7182 - accuracy: 0.7215\n",
      "Epoch 64: val_loss did not improve from 0.27863\n",
      "240/240 [==============================] - 468s 2s/step - loss: 0.7182 - accuracy: 0.7215 - val_loss: 0.2945 - val_accuracy: 0.9211\n",
      "Epoch 65/200\n",
      "240/240 [==============================] - ETA: 0s - loss: 0.7072 - accuracy: 0.7172 \n",
      "Epoch 65: val_loss did not improve from 0.27863\n",
      "240/240 [==============================] - 3655s 15s/step - loss: 0.7072 - accuracy: 0.7172 - val_loss: 0.2957 - val_accuracy: 0.9223\n",
      "Epoch 66/200\n",
      "240/240 [==============================] - ETA: 0s - loss: 0.6975 - accuracy: 0.7367\n",
      "Epoch 66: val_loss did not improve from 0.27863\n",
      "240/240 [==============================] - 472s 2s/step - loss: 0.6975 - accuracy: 0.7367 - val_loss: 0.3075 - val_accuracy: 0.9140\n",
      "Epoch 67/200\n",
      "240/240 [==============================] - ETA: 0s - loss: 0.7031 - accuracy: 0.7172\n",
      "Epoch 67: val_loss did not improve from 0.27863\n",
      "240/240 [==============================] - 466s 2s/step - loss: 0.7031 - accuracy: 0.7172 - val_loss: 0.2854 - val_accuracy: 0.9329\n",
      "Epoch 68/200\n",
      "240/240 [==============================] - ETA: 0s - loss: 0.7166 - accuracy: 0.7143\n",
      "Epoch 68: val_loss did not improve from 0.27863\n",
      "240/240 [==============================] - 469s 2s/step - loss: 0.7166 - accuracy: 0.7143 - val_loss: 0.2853 - val_accuracy: 0.9164\n",
      "Epoch 69/200\n",
      "240/240 [==============================] - ETA: 0s - loss: 0.7001 - accuracy: 0.7238\n",
      "Epoch 69: val_loss improved from 0.27863 to 0.26386, saving model to ./dense_transformer_model.h5\n",
      "240/240 [==============================] - 471s 2s/step - loss: 0.7001 - accuracy: 0.7238 - val_loss: 0.2639 - val_accuracy: 0.9340\n",
      "Epoch 70/200\n",
      "240/240 [==============================] - ETA: 0s - loss: 0.6855 - accuracy: 0.7314\n",
      "Epoch 70: val_loss improved from 0.26386 to 0.25671, saving model to ./dense_transformer_model.h5\n",
      "240/240 [==============================] - 465s 2s/step - loss: 0.6855 - accuracy: 0.7314 - val_loss: 0.2567 - val_accuracy: 0.9282\n",
      "Epoch 71/200\n",
      "240/240 [==============================] - ETA: 0s - loss: 0.6973 - accuracy: 0.7275\n",
      "Epoch 71: val_loss improved from 0.25671 to 0.25274, saving model to ./dense_transformer_model.h5\n",
      "240/240 [==============================] - 466s 2s/step - loss: 0.6973 - accuracy: 0.7275 - val_loss: 0.2527 - val_accuracy: 0.9399\n",
      "Epoch 72/200\n",
      "240/240 [==============================] - ETA: 0s - loss: 0.6903 - accuracy: 0.7249\n",
      "Epoch 72: val_loss did not improve from 0.25274\n",
      "240/240 [==============================] - 465s 2s/step - loss: 0.6903 - accuracy: 0.7249 - val_loss: 0.2586 - val_accuracy: 0.9211\n",
      "Epoch 73/200\n",
      "240/240 [==============================] - ETA: 0s - loss: 0.6837 - accuracy: 0.7331\n",
      "Epoch 73: val_loss did not improve from 0.25274\n",
      "240/240 [==============================] - 471s 2s/step - loss: 0.6837 - accuracy: 0.7331 - val_loss: 0.2774 - val_accuracy: 0.9176\n",
      "Epoch 74/200\n",
      "240/240 [==============================] - ETA: 0s - loss: 0.6767 - accuracy: 0.7371\n",
      "Epoch 74: val_loss improved from 0.25274 to 0.24912, saving model to ./dense_transformer_model.h5\n",
      "240/240 [==============================] - 468s 2s/step - loss: 0.6767 - accuracy: 0.7371 - val_loss: 0.2491 - val_accuracy: 0.9340\n",
      "Epoch 75/200\n",
      "240/240 [==============================] - ETA: 0s - loss: 0.6896 - accuracy: 0.7358\n",
      "Epoch 75: val_loss did not improve from 0.24912\n",
      "240/240 [==============================] - 471s 2s/step - loss: 0.6896 - accuracy: 0.7358 - val_loss: 0.2524 - val_accuracy: 0.9329\n",
      "Epoch 76/200\n",
      "240/240 [==============================] - ETA: 0s - loss: 0.6843 - accuracy: 0.7329\n",
      "Epoch 76: val_loss did not improve from 0.24912\n",
      "240/240 [==============================] - 469s 2s/step - loss: 0.6843 - accuracy: 0.7329 - val_loss: 0.2735 - val_accuracy: 0.9340\n",
      "Epoch 77/200\n",
      "240/240 [==============================] - ETA: 0s - loss: 0.6783 - accuracy: 0.7319\n",
      "Epoch 77: val_loss improved from 0.24912 to 0.24431, saving model to ./dense_transformer_model.h5\n",
      "240/240 [==============================] - 468s 2s/step - loss: 0.6783 - accuracy: 0.7319 - val_loss: 0.2443 - val_accuracy: 0.9470\n",
      "Epoch 78/200\n",
      "240/240 [==============================] - ETA: 0s - loss: 0.6758 - accuracy: 0.7402\n",
      "Epoch 78: val_loss improved from 0.24431 to 0.24004, saving model to ./dense_transformer_model.h5\n",
      "240/240 [==============================] - 470s 2s/step - loss: 0.6758 - accuracy: 0.7402 - val_loss: 0.2400 - val_accuracy: 0.9494\n",
      "Epoch 79/200\n",
      "240/240 [==============================] - ETA: 0s - loss: 0.6785 - accuracy: 0.7319\n",
      "Epoch 79: val_loss did not improve from 0.24004\n",
      "240/240 [==============================] - 466s 2s/step - loss: 0.6785 - accuracy: 0.7319 - val_loss: 0.2604 - val_accuracy: 0.9282\n",
      "Epoch 80/200\n",
      "240/240 [==============================] - ETA: 0s - loss: 0.6785 - accuracy: 0.7307\n",
      "Epoch 80: val_loss improved from 0.24004 to 0.21898, saving model to ./dense_transformer_model.h5\n",
      "240/240 [==============================] - 471s 2s/step - loss: 0.6785 - accuracy: 0.7307 - val_loss: 0.2190 - val_accuracy: 0.9446\n",
      "Epoch 81/200\n"
     ]
    },
    {
     "name": "stdout",
     "output_type": "stream",
     "text": [
      "240/240 [==============================] - ETA: 0s - loss: 0.6746 - accuracy: 0.7419\n",
      "Epoch 81: val_loss did not improve from 0.21898\n",
      "240/240 [==============================] - 467s 2s/step - loss: 0.6746 - accuracy: 0.7419 - val_loss: 0.2432 - val_accuracy: 0.9317\n",
      "Epoch 82/200\n",
      "240/240 [==============================] - ETA: 0s - loss: 0.6678 - accuracy: 0.7348\n",
      "Epoch 82: val_loss did not improve from 0.21898\n",
      "240/240 [==============================] - 465s 2s/step - loss: 0.6678 - accuracy: 0.7348 - val_loss: 0.2306 - val_accuracy: 0.9364\n",
      "Epoch 83/200\n",
      "240/240 [==============================] - ETA: 0s - loss: 0.6769 - accuracy: 0.7336\n",
      "Epoch 83: val_loss did not improve from 0.21898\n",
      "240/240 [==============================] - 471s 2s/step - loss: 0.6769 - accuracy: 0.7336 - val_loss: 0.2263 - val_accuracy: 0.9435\n",
      "Epoch 84/200\n",
      "240/240 [==============================] - ETA: 0s - loss: 0.6751 - accuracy: 0.7365\n",
      "Epoch 84: val_loss did not improve from 0.21898\n",
      "240/240 [==============================] - 466s 2s/step - loss: 0.6751 - accuracy: 0.7365 - val_loss: 0.2264 - val_accuracy: 0.9411\n",
      "Epoch 85/200\n",
      "240/240 [==============================] - ETA: 0s - loss: 0.6753 - accuracy: 0.7372\n",
      "Epoch 85: val_loss did not improve from 0.21898\n",
      "240/240 [==============================] - 466s 2s/step - loss: 0.6753 - accuracy: 0.7372 - val_loss: 0.2244 - val_accuracy: 0.9376\n",
      "Epoch 86/200\n",
      "240/240 [==============================] - ETA: 0s - loss: 0.6754 - accuracy: 0.7345\n",
      "Epoch 86: val_loss improved from 0.21898 to 0.21192, saving model to ./dense_transformer_model.h5\n",
      "240/240 [==============================] - 466s 2s/step - loss: 0.6754 - accuracy: 0.7345 - val_loss: 0.2119 - val_accuracy: 0.9470\n",
      "Epoch 87/200\n",
      "240/240 [==============================] - ETA: 0s - loss: 0.6546 - accuracy: 0.7449\n",
      "Epoch 87: val_loss did not improve from 0.21192\n",
      "240/240 [==============================] - 464s 2s/step - loss: 0.6546 - accuracy: 0.7449 - val_loss: 0.2493 - val_accuracy: 0.9140\n",
      "Epoch 88/200\n",
      "240/240 [==============================] - ETA: 0s - loss: 0.6500 - accuracy: 0.7471\n",
      "Epoch 88: val_loss improved from 0.21192 to 0.19492, saving model to ./dense_transformer_model.h5\n",
      "240/240 [==============================] - 474s 2s/step - loss: 0.6500 - accuracy: 0.7471 - val_loss: 0.1949 - val_accuracy: 0.9517\n",
      "Epoch 89/200\n",
      "240/240 [==============================] - ETA: 0s - loss: 0.6545 - accuracy: 0.7439 \n",
      "Epoch 89: val_loss did not improve from 0.19492\n",
      "240/240 [==============================] - 2884s 12s/step - loss: 0.6545 - accuracy: 0.7439 - val_loss: 0.2258 - val_accuracy: 0.9376\n",
      "Epoch 90/200\n",
      "240/240 [==============================] - ETA: 0s - loss: 0.6686 - accuracy: 0.7346\n",
      "Epoch 90: val_loss did not improve from 0.19492\n",
      "240/240 [==============================] - 471s 2s/step - loss: 0.6686 - accuracy: 0.7346 - val_loss: 0.2404 - val_accuracy: 0.9340\n",
      "Epoch 91/200\n",
      "240/240 [==============================] - ETA: 0s - loss: 0.6431 - accuracy: 0.7443\n",
      "Epoch 91: val_loss did not improve from 0.19492\n",
      "240/240 [==============================] - 474s 2s/step - loss: 0.6431 - accuracy: 0.7443 - val_loss: 0.2420 - val_accuracy: 0.9352\n",
      "Epoch 92/200\n",
      "240/240 [==============================] - ETA: 0s - loss: 0.6477 - accuracy: 0.7507\n",
      "Epoch 92: val_loss did not improve from 0.19492\n",
      "240/240 [==============================] - 470s 2s/step - loss: 0.6477 - accuracy: 0.7507 - val_loss: 0.2384 - val_accuracy: 0.9352\n",
      "Epoch 93/200\n",
      "240/240 [==============================] - ETA: 0s - loss: 0.6472 - accuracy: 0.7513\n",
      "Epoch 93: val_loss did not improve from 0.19492\n",
      "240/240 [==============================] - 465s 2s/step - loss: 0.6472 - accuracy: 0.7513 - val_loss: 0.1979 - val_accuracy: 0.9458\n",
      "Epoch 94/200\n",
      "240/240 [==============================] - ETA: 0s - loss: 0.6448 - accuracy: 0.7543\n",
      "Epoch 94: val_loss did not improve from 0.19492\n",
      "240/240 [==============================] - 468s 2s/step - loss: 0.6448 - accuracy: 0.7543 - val_loss: 0.2073 - val_accuracy: 0.9541\n",
      "Epoch 95/200\n",
      "240/240 [==============================] - ETA: 0s - loss: 0.6426 - accuracy: 0.7510\n",
      "Epoch 95: val_loss improved from 0.19492 to 0.19064, saving model to ./dense_transformer_model.h5\n",
      "240/240 [==============================] - 466s 2s/step - loss: 0.6426 - accuracy: 0.7510 - val_loss: 0.1906 - val_accuracy: 0.9611\n",
      "Epoch 96/200\n",
      "240/240 [==============================] - ETA: 0s - loss: 0.6462 - accuracy: 0.7546\n",
      "Epoch 96: val_loss did not improve from 0.19064\n",
      "240/240 [==============================] - 468s 2s/step - loss: 0.6462 - accuracy: 0.7546 - val_loss: 0.2234 - val_accuracy: 0.9423\n",
      "Epoch 97/200\n",
      "240/240 [==============================] - ETA: 0s - loss: 0.6506 - accuracy: 0.7434\n",
      "Epoch 97: val_loss did not improve from 0.19064\n",
      "240/240 [==============================] - 466s 2s/step - loss: 0.6506 - accuracy: 0.7434 - val_loss: 0.1934 - val_accuracy: 0.9576\n",
      "Epoch 98/200\n",
      "240/240 [==============================] - ETA: 0s - loss: 0.6210 - accuracy: 0.7616\n",
      "Epoch 98: val_loss did not improve from 0.19064\n",
      "240/240 [==============================] - 468s 2s/step - loss: 0.6210 - accuracy: 0.7616 - val_loss: 0.2218 - val_accuracy: 0.9352\n",
      "Epoch 99/200\n",
      "240/240 [==============================] - ETA: 0s - loss: 0.6433 - accuracy: 0.7478\n",
      "Epoch 99: val_loss improved from 0.19064 to 0.18055, saving model to ./dense_transformer_model.h5\n",
      "240/240 [==============================] - 467s 2s/step - loss: 0.6433 - accuracy: 0.7478 - val_loss: 0.1806 - val_accuracy: 0.9670\n",
      "Epoch 100/200\n",
      "240/240 [==============================] - ETA: 0s - loss: 0.6367 - accuracy: 0.7582\n",
      "Epoch 100: val_loss did not improve from 0.18055\n",
      "240/240 [==============================] - 470s 2s/step - loss: 0.6367 - accuracy: 0.7582 - val_loss: 0.1901 - val_accuracy: 0.9611\n",
      "Epoch 101/200\n",
      "240/240 [==============================] - ETA: 0s - loss: 0.6554 - accuracy: 0.7507\n",
      "Epoch 101: val_loss did not improve from 0.18055\n",
      "240/240 [==============================] - 473s 2s/step - loss: 0.6554 - accuracy: 0.7507 - val_loss: 0.2128 - val_accuracy: 0.9600\n",
      "Epoch 102/200\n",
      "240/240 [==============================] - ETA: 0s - loss: 0.6437 - accuracy: 0.7527\n",
      "Epoch 102: val_loss did not improve from 0.18055\n",
      "240/240 [==============================] - 469s 2s/step - loss: 0.6437 - accuracy: 0.7527 - val_loss: 0.1957 - val_accuracy: 0.9552\n",
      "Epoch 103/200\n",
      "240/240 [==============================] - ETA: 0s - loss: 0.6298 - accuracy: 0.7543\n",
      "Epoch 103: val_loss improved from 0.18055 to 0.16731, saving model to ./dense_transformer_model.h5\n",
      "240/240 [==============================] - 469s 2s/step - loss: 0.6298 - accuracy: 0.7543 - val_loss: 0.1673 - val_accuracy: 0.9670\n",
      "Epoch 104/200\n",
      "240/240 [==============================] - ETA: 0s - loss: 0.6320 - accuracy: 0.7542\n",
      "Epoch 104: val_loss did not improve from 0.16731\n",
      "240/240 [==============================] - 469s 2s/step - loss: 0.6320 - accuracy: 0.7542 - val_loss: 0.2058 - val_accuracy: 0.9529\n",
      "Epoch 105/200\n",
      "240/240 [==============================] - ETA: 0s - loss: 0.6462 - accuracy: 0.7512\n",
      "Epoch 105: val_loss did not improve from 0.16731\n",
      "240/240 [==============================] - 469s 2s/step - loss: 0.6462 - accuracy: 0.7512 - val_loss: 0.2042 - val_accuracy: 0.9552\n",
      "Epoch 106/200\n",
      "240/240 [==============================] - ETA: 0s - loss: 0.6264 - accuracy: 0.7572 \n",
      "Epoch 106: val_loss did not improve from 0.16731\n",
      "240/240 [==============================] - 8957s 37s/step - loss: 0.6264 - accuracy: 0.7572 - val_loss: 0.1792 - val_accuracy: 0.9682\n",
      "Epoch 107/200\n",
      "240/240 [==============================] - ETA: 0s - loss: 0.6252 - accuracy: 0.7590\n",
      "Epoch 107: val_loss did not improve from 0.16731\n",
      "240/240 [==============================] - 466s 2s/step - loss: 0.6252 - accuracy: 0.7590 - val_loss: 0.2003 - val_accuracy: 0.9482\n",
      "Epoch 108/200\n",
      "240/240 [==============================] - ETA: 0s - loss: 0.6143 - accuracy: 0.7669\n",
      "Epoch 108: val_loss did not improve from 0.16731\n",
      "240/240 [==============================] - 472s 2s/step - loss: 0.6143 - accuracy: 0.7669 - val_loss: 0.1819 - val_accuracy: 0.9505\n",
      "Epoch 109/200\n",
      "240/240 [==============================] - ETA: 0s - loss: 0.6418 - accuracy: 0.7510\n",
      "Epoch 109: val_loss did not improve from 0.16731\n"
     ]
    },
    {
     "name": "stdout",
     "output_type": "stream",
     "text": [
      "240/240 [==============================] - 472s 2s/step - loss: 0.6418 - accuracy: 0.7510 - val_loss: 0.1890 - val_accuracy: 0.9670\n",
      "Epoch 110/200\n",
      "240/240 [==============================] - ETA: 0s - loss: 0.6233 - accuracy: 0.7625\n",
      "Epoch 110: val_loss did not improve from 0.16731\n",
      "240/240 [==============================] - 467s 2s/step - loss: 0.6233 - accuracy: 0.7625 - val_loss: 0.1808 - val_accuracy: 0.9670\n",
      "Epoch 111/200\n",
      "240/240 [==============================] - ETA: 0s - loss: 0.6321 - accuracy: 0.7564\n",
      "Epoch 111: val_loss did not improve from 0.16731\n",
      "240/240 [==============================] - 469s 2s/step - loss: 0.6321 - accuracy: 0.7564 - val_loss: 0.2038 - val_accuracy: 0.9388\n"
     ]
    }
   ],
   "source": [
    "history = model.fit(train_data, \n",
    "                   validation_data=val_data,\n",
    "                   epochs=200,\n",
    "                   callbacks=callbacks\n",
    "                   )"
   ]
  },
  {
   "cell_type": "code",
   "execution_count": 40,
   "metadata": {
    "execution": {
     "iopub.execute_input": "2023-03-23T01:28:58.175142Z",
     "iopub.status.busy": "2023-03-23T01:28:58.173975Z",
     "iopub.status.idle": "2023-03-23T01:29:16.174914Z",
     "shell.execute_reply": "2023-03-23T01:29:16.173945Z",
     "shell.execute_reply.started": "2023-03-23T01:28:58.175103Z"
    }
   },
   "outputs": [
    {
     "data": {
      "image/png": "[encoded data removed]",
      "text/plain": [
       "<Figure size 1080x432 with 2 Axes>"
      ]
     },
     "metadata": {},
     "output_type": "display_data"
    }
   ],
   "source": [
    "hist = history\n",
    "plt.figure(figsize=(15,6))\n",
    "\n",
    "plt.subplot(1,2,1)\n",
    "plt.plot(hist.epoch,hist.history['accuracy'],label = 'Training')\n",
    "plt.plot(hist.epoch,hist.history['val_accuracy'],label = 'validation')\n",
    "\n",
    "plt.title(\"Accuracy\")\n",
    "plt.legend()\n",
    "\n",
    "plt.subplot(1,2,2)\n",
    "plt.plot(hist.epoch,hist.history['loss'],label = 'Training')\n",
    "plt.plot(hist.epoch,hist.history['val_loss'],label = 'validation')\n",
    "\n",
    "plt.title(\"Loss\")\n",
    "plt.legend()\n",
    "plt.show()"
   ]
  },
  {
   "cell_type": "code",
   "execution_count": 41,
   "metadata": {
    "execution": {
     "iopub.execute_input": "2023-03-23T01:29:16.176374Z",
     "iopub.status.busy": "2023-03-23T01:29:16.176019Z",
     "iopub.status.idle": "2023-03-23T01:29:16.183294Z",
     "shell.execute_reply": "2023-03-23T01:29:16.181859Z",
     "shell.execute_reply.started": "2023-03-23T01:29:16.176337Z"
    }
   },
   "outputs": [],
   "source": [
    "def map_to_input(sen:str, seq_len:int):\n",
    "    tokens = tokenizer.encode_plus(sen, max_length=seq_len, \n",
    "                               truncation=True, padding=\"max_length\",\n",
    "                               add_special_tokens=True, return_token_type_ids=False,\n",
    "                               return_attention_mask=True, return_tensors=\"tf\"\n",
    "                              )\n",
    "    \n",
    "    return tokens"
   ]
  },
  {
   "cell_type": "markdown",
   "metadata": {},
   "source": [
    "### TEST\n",
    "\n",
    "```\n",
    "The sentiment labels are:\n",
    "\n",
    "0 - Sad\n",
    "1 - Sad\n",
    "2 - neutral\n",
    "3 - Happy\n",
    "4 - Happy\n",
    "```\n"
   ]
  },
  {
   "cell_type": "code",
   "execution_count": 42,
   "metadata": {
    "execution": {
     "iopub.execute_input": "2023-03-23T01:29:16.186152Z",
     "iopub.status.busy": "2023-03-23T01:29:16.184959Z",
     "iopub.status.idle": "2023-03-23T01:29:19.798760Z",
     "shell.execute_reply": "2023-03-23T01:29:19.797716Z",
     "shell.execute_reply.started": "2023-03-23T01:29:16.186114Z"
    }
   },
   "outputs": [
    {
     "name": "stdout",
     "output_type": "stream",
     "text": [
      "WARNING:tensorflow:Error in loading the saved optimizer state. As a result, your model is starting with a freshly initialized optimizer.\n"
     ]
    }
   ],
   "source": [
    "from transformers import TFBertModel\n",
    "\n",
    "# Define the custom objects dictionary with the TFBertModel layer\n",
    "custom_objects = {'TFBertModel': TFBertModel}\n",
    "\n",
    "# Load the model and pass the custom objects dictionary\n",
    "model = tf.keras.models.load_model('./dense_transformer_model.h5', custom_objects=custom_objects)"
   ]
  },
  {
   "cell_type": "code",
   "execution_count": 43,
   "metadata": {
    "execution": {
     "iopub.execute_input": "2023-03-23T01:53:48.886250Z",
     "iopub.status.busy": "2023-03-23T01:53:48.885509Z",
     "iopub.status.idle": "2023-03-23T01:53:48.890968Z",
     "shell.execute_reply": "2023-03-23T01:53:48.889924Z",
     "shell.execute_reply.started": "2023-03-23T01:53:48.886205Z"
    }
   },
   "outputs": [],
   "source": [
    "classes = {\n",
    "    0: \"Sad\",\n",
    "    1: \"Sad\",\n",
    "    2: \"Neutral\",\n",
    "    3: \"Happy\",\n",
    "    4: \"Happy\"\n",
    "}"
   ]
  },
  {
   "cell_type": "code",
   "execution_count": 44,
   "metadata": {
    "execution": {
     "iopub.execute_input": "2023-03-23T01:53:54.867647Z",
     "iopub.status.busy": "2023-03-23T01:53:54.866646Z",
     "iopub.status.idle": "2023-03-23T01:53:54.935532Z",
     "shell.execute_reply": "2023-03-23T01:53:54.934557Z",
     "shell.execute_reply.started": "2023-03-23T01:53:54.867607Z"
    }
   },
   "outputs": [
    {
     "data": {
      "text/html": [
       "<div>\n",
       "<style scoped>\n",
       "    .dataframe tbody tr th:only-of-type {\n",
       "        vertical-align: middle;\n",
       "    }\n",
       "\n",
       "    .dataframe tbody tr th {\n",
       "        vertical-align: top;\n",
       "    }\n",
       "\n",
       "    .dataframe thead th {\n",
       "        text-align: right;\n",
       "    }\n",
       "</style>\n",
       "<table border=\"1\" class=\"dataframe\">\n",
       "  <thead>\n",
       "    <tr style=\"text-align: right;\">\n",
       "      <th></th>\n",
       "      <th>PhraseId</th>\n",
       "      <th>SentenceId</th>\n",
       "      <th>Phrase</th>\n",
       "    </tr>\n",
       "  </thead>\n",
       "  <tbody>\n",
       "    <tr>\n",
       "      <th>0</th>\n",
       "      <td>156061</td>\n",
       "      <td>8545</td>\n",
       "      <td>An intermittently pleasing but mostly routine ...</td>\n",
       "    </tr>\n",
       "    <tr>\n",
       "      <th>15</th>\n",
       "      <td>156076</td>\n",
       "      <td>8546</td>\n",
       "      <td>Kidman is really the only thing that 's worth ...</td>\n",
       "    </tr>\n",
       "    <tr>\n",
       "      <th>93</th>\n",
       "      <td>156154</td>\n",
       "      <td>8547</td>\n",
       "      <td>Once you get into its rhythm ... the movie bec...</td>\n",
       "    </tr>\n",
       "    <tr>\n",
       "      <th>117</th>\n",
       "      <td>156178</td>\n",
       "      <td>8548</td>\n",
       "      <td>I kept wishing I was watching a documentary ab...</td>\n",
       "    </tr>\n",
       "    <tr>\n",
       "      <th>158</th>\n",
       "      <td>156219</td>\n",
       "      <td>8549</td>\n",
       "      <td>Kinnear does n't aim for our sympathy , but ra...</td>\n",
       "    </tr>\n",
       "  </tbody>\n",
       "</table>\n",
       "</div>"
      ],
      "text/plain": [
       "     PhraseId  SentenceId                                             Phrase\n",
       "0      156061        8545  An intermittently pleasing but mostly routine ...\n",
       "15     156076        8546  Kidman is really the only thing that 's worth ...\n",
       "93     156154        8547  Once you get into its rhythm ... the movie bec...\n",
       "117    156178        8548  I kept wishing I was watching a documentary ab...\n",
       "158    156219        8549  Kinnear does n't aim for our sympathy , but ra..."
      ]
     },
     "execution_count": 44,
     "metadata": {},
     "output_type": "execute_result"
    }
   ],
   "source": [
    "test_data = pd.read_csv(\"./test.tsv\", sep=\"\\t\")\n",
    "test_data.drop_duplicates(subset=\"SentenceId\", keep=\"first\", inplace=True)\n",
    "test_data.head()"
   ]
  },
  {
   "cell_type": "code",
   "execution_count": 45,
   "metadata": {
    "execution": {
     "iopub.execute_input": "2023-03-23T01:53:59.314531Z",
     "iopub.status.busy": "2023-03-23T01:53:59.313625Z",
     "iopub.status.idle": "2023-03-23T01:54:07.717825Z",
     "shell.execute_reply": "2023-03-23T01:54:07.716787Z",
     "shell.execute_reply.started": "2023-03-23T01:53:59.314495Z"
    }
   },
   "outputs": [
    {
     "name": "stderr",
     "output_type": "stream",
     "text": [
      "\r",
      "  0%|                                                                                           | 0/100 [00:00<?, ?it/s]"
     ]
    },
    {
     "name": "stdout",
     "output_type": "stream",
     "text": [
      "An intermittently pleasing but mostly routine effort .\n"
     ]
    },
    {
     "name": "stderr",
     "output_type": "stream",
     "text": [
      "\r",
      "  1%|▊                                                                                  | 1/100 [00:10<17:24, 10.56s/it]"
     ]
    },
    {
     "name": "stdout",
     "output_type": "stream",
     "text": [
      "Kidman is really the only thing that 's worth watching in Birthday Girl , a film by the stage-trained Jez Butterworth -LRB- Mojo -RRB- that serves as yet another example of the sad decline of British comedies in the post-Full Monty world .\n"
     ]
    },
    {
     "name": "stderr",
     "output_type": "stream",
     "text": [
      "  3%|██▍                                                                                | 3/100 [00:10<04:04,  2.52s/it]"
     ]
    },
    {
     "name": "stdout",
     "output_type": "stream",
     "text": [
      "Once you get into its rhythm ... the movie becomes a heady experience .\n",
      "I kept wishing I was watching a documentary about the wartime Navajos and what they accomplished instead of all this specious Hollywood hoo-ha .\n"
     ]
    },
    {
     "name": "stderr",
     "output_type": "stream",
     "text": [
      "\r",
      "  4%|███▎                                                                               | 4/100 [00:11<02:33,  1.59s/it]"
     ]
    },
    {
     "name": "stdout",
     "output_type": "stream",
     "text": [
      "Kinnear does n't aim for our sympathy , but rather delivers a performance of striking skill and depth .\n"
     ]
    },
    {
     "name": "stderr",
     "output_type": "stream",
     "text": [
      "  6%|████▉                                                                              | 6/100 [00:11<01:13,  1.28it/s]"
     ]
    },
    {
     "name": "stdout",
     "output_type": "stream",
     "text": [
      "All ends well , sort of , but the frenzied comic moments never click .\n",
      "It 's a hoot and a half , and a great way for the American people to see what a candidate is like when he 's not giving the same 15-cent stump speech .\n"
     ]
    },
    {
     "name": "stderr",
     "output_type": "stream",
     "text": [
      "  8%|██████▋                                                                            | 8/100 [00:11<00:41,  2.20it/s]"
     ]
    },
    {
     "name": "stdout",
     "output_type": "stream",
     "text": [
      "The weight of the piece , the unerring professionalism of the chilly production , and the fascination embedded in the lurid topic prove recommendation enough .\n",
      "The film contains no good jokes , no good scenes , barely a moment when Carvey 's Saturday Night Live-honed mimicry rises above the level of embarrassment .\n"
     ]
    },
    {
     "name": "stderr",
     "output_type": "stream",
     "text": [
      " 10%|████████▏                                                                         | 10/100 [00:12<00:28,  3.21it/s]"
     ]
    },
    {
     "name": "stdout",
     "output_type": "stream",
     "text": [
      "An offbeat , sometimes gross and surprisingly appealing animated film about the true meaning of the holidays .\n",
      "It suggests the wide-ranging effects of media manipulation , from the kind of reporting that is done by the supposedly liberal media ... to the intimate and ultimately tragic heartache of maverick individuals like Hatfield and Hicks .\n"
     ]
    },
    {
     "name": "stderr",
     "output_type": "stream",
     "text": [
      " 12%|█████████▊                                                                        | 12/100 [00:12<00:20,  4.25it/s]"
     ]
    },
    {
     "name": "stdout",
     "output_type": "stream",
     "text": [
      "As Tweedy talks about canning his stockbroker and repairing his pool , you yearn for a few airborne TV sets or nude groupies on the nod to liven things up .\n",
      "For all its failed connections , Divine Secrets of the Ya-Ya Sisterhood is nurturing , in a gauzy , dithering way .\n"
     ]
    },
    {
     "name": "stderr",
     "output_type": "stream",
     "text": [
      " 14%|███████████▍                                                                      | 14/100 [00:12<00:17,  5.01it/s]"
     ]
    },
    {
     "name": "stdout",
     "output_type": "stream",
     "text": [
      "It would be hard to think of a recent movie that has worked this hard to achieve this little fun .\n",
      "The story and structure are well-honed .\n"
     ]
    },
    {
     "name": "stderr",
     "output_type": "stream",
     "text": [
      " 16%|█████████████                                                                     | 16/100 [00:13<00:15,  5.32it/s]"
     ]
    },
    {
     "name": "stdout",
     "output_type": "stream",
     "text": [
      "Chilling but uncommercial look into the mind of Jeffrey Dahmer , serial killer .\n",
      "... the movie is just a plain old monster .\n"
     ]
    },
    {
     "name": "stderr",
     "output_type": "stream",
     "text": [
      " 18%|██████████████▊                                                                   | 18/100 [00:13<00:14,  5.47it/s]"
     ]
    },
    {
     "name": "stdout",
     "output_type": "stream",
     "text": [
      "This film 's relationship to actual tension is the same as what Christmas-tree flocking in a spray can is to actual snow : a poor -- if durable -- imitation .\n",
      "A depressing confirmation of everything those of us who do n't object to the description `` unelected '' have suspected all along : George W. Bush is an incurious , uncharismatic , overgrown frat boy with a mean streak a mile wide .\n"
     ]
    },
    {
     "name": "stderr",
     "output_type": "stream",
     "text": [
      " 20%|████████████████▍                                                                 | 20/100 [00:13<00:13,  5.83it/s]"
     ]
    },
    {
     "name": "stdout",
     "output_type": "stream",
     "text": [
      "You do n't have to know about music to appreciate the film 's easygoing blend of comedy and romance .\n",
      "However , it lacks grandeur and that epic quality often associated with Stevenson 's tale as well as with earlier Disney efforts .\n"
     ]
    },
    {
     "name": "stderr",
     "output_type": "stream",
     "text": [
      " 22%|██████████████████                                                                | 22/100 [00:14<00:13,  5.97it/s]"
     ]
    },
    {
     "name": "stdout",
     "output_type": "stream",
     "text": [
      "Although occasionally static to the point of resembling a stage play , the film delivers a solid mixture of sweetness and laughs .\n",
      "An occasionally funny , but overall limp , fish-out-of-water story .\n"
     ]
    },
    {
     "name": "stderr",
     "output_type": "stream",
     "text": [
      " 24%|███████████████████▋                                                              | 24/100 [00:14<00:12,  6.11it/s]"
     ]
    },
    {
     "name": "stdout",
     "output_type": "stream",
     "text": [
      "a nightmare date with a half-formed wit done a great disservice by a lack of critical distance and a sad trust in liberal arts college bumper sticker platitudes .\n",
      "A fitfully amusing romp that , if nothing else , will appeal to fans of Malcolm in the Middle and its pubescent star , Frankie Muniz .\n"
     ]
    },
    {
     "name": "stderr",
     "output_type": "stream",
     "text": [
      " 26%|█████████████████████▎                                                            | 26/100 [00:14<00:12,  5.97it/s]"
     ]
    },
    {
     "name": "stdout",
     "output_type": "stream",
     "text": [
      "If I Spy were funny -LRB- enough -RRB- or exciting -LRB- enough -RRB- then it would be fairly simple to forgive the financial extortion it 's trying to reap from the moviegoing public .\n",
      "Borrows from so many literary and cinematic sources that this future world feels absolutely deja vu .\n"
     ]
    },
    {
     "name": "stderr",
     "output_type": "stream",
     "text": [
      " 28%|██████████████████████▉                                                           | 28/100 [00:15<00:11,  6.05it/s]"
     ]
    },
    {
     "name": "stdout",
     "output_type": "stream",
     "text": [
      "Despite its title , Amy 's Orgasm is not a porno , though it is as tedious as one .\n",
      "That dogged good will of the parents and ` vain ' Jia 's defoliation of ego , make the film touching despite some doldrums .\n"
     ]
    },
    {
     "name": "stderr",
     "output_type": "stream",
     "text": [
      " 30%|████████████████████████▌                                                         | 30/100 [00:15<00:11,  5.90it/s]"
     ]
    },
    {
     "name": "stdout",
     "output_type": "stream",
     "text": [
      "Imagine a really bad community theater production of West Side Story without the songs .\n",
      "It 's an old story , but a lively script , sharp acting and partially animated interludes make Just a Kiss seem minty fresh .\n"
     ]
    },
    {
     "name": "stderr",
     "output_type": "stream",
     "text": [
      " 32%|██████████████████████████▏                                                       | 32/100 [00:15<00:11,  6.12it/s]"
     ]
    },
    {
     "name": "stdout",
     "output_type": "stream",
     "text": [
      "The most hopelessly monotonous film of the year , noteworthy only for the gimmick of being filmed as a single unbroken 87-minute take .\n",
      "Prancing his way through the tailor-made part of a male hooker approaching the end of his vitality , Jagger obviously relishes every self-mocking moment .\n"
     ]
    },
    {
     "name": "stderr",
     "output_type": "stream",
     "text": [
      " 34%|███████████████████████████▉                                                      | 34/100 [00:16<00:10,  6.22it/s]"
     ]
    },
    {
     "name": "stdout",
     "output_type": "stream",
     "text": [
      "A distant , even sterile , yet compulsively watchable look at the sordid life of Hogan 's Heroes star Bob Crane .\n",
      "Creepy but ultimately unsatisfying thriller .\n"
     ]
    },
    {
     "name": "stderr",
     "output_type": "stream",
     "text": [
      " 36%|█████████████████████████████▌                                                    | 36/100 [00:16<00:10,  6.22it/s]"
     ]
    },
    {
     "name": "stdout",
     "output_type": "stream",
     "text": [
      "I just did n't care as much for the story .\n",
      "Extreme Oops - oops , ops , no matter how you spell it , it 's still a mistake to go see it .\n"
     ]
    },
    {
     "name": "stderr",
     "output_type": "stream",
     "text": [
      " 38%|███████████████████████████████▏                                                  | 38/100 [00:16<00:09,  6.38it/s]"
     ]
    },
    {
     "name": "stdout",
     "output_type": "stream",
     "text": [
      "What Jackson has accomplished here is amazing on a technical level .\n",
      "If you 've ever entertained the notion of doing what the title of this film implies , what Sex With Strangers actually shows may put you off the idea forever .\n"
     ]
    },
    {
     "name": "stderr",
     "output_type": "stream",
     "text": [
      " 40%|████████████████████████████████▊                                                 | 40/100 [00:17<00:09,  6.13it/s]"
     ]
    },
    {
     "name": "stdout",
     "output_type": "stream",
     "text": [
      "A pleasant romantic comedy .\n",
      "A movie that tries to fuse the two ` woods ' but winds up a Bolly-Holly masala mess .\n"
     ]
    },
    {
     "name": "stderr",
     "output_type": "stream",
     "text": [
      " 42%|██████████████████████████████████▍                                               | 42/100 [00:17<00:09,  6.17it/s]"
     ]
    },
    {
     "name": "stdout",
     "output_type": "stream",
     "text": [
      "Though of particular interest to students and enthusiast of international dance and world music , the film is designed to make viewers of all ages , cultural backgrounds and rhythmic ability want to get up and dance .\n",
      "Though only 60 minutes long , the film is packed with information and impressions .\n"
     ]
    },
    {
     "name": "stderr",
     "output_type": "stream",
     "text": [
      " 44%|████████████████████████████████████                                              | 44/100 [00:17<00:09,  6.14it/s]"
     ]
    },
    {
     "name": "stdout",
     "output_type": "stream",
     "text": [
      " \n",
      "There 's a disturbing ` Great White Hope ' undertone to The Other Side of Heaven that subtly undermines its message of Christian love and compassion .\n"
     ]
    },
    {
     "name": "stderr",
     "output_type": "stream",
     "text": [
      " 46%|█████████████████████████████████████▋                                            | 46/100 [00:18<00:08,  6.36it/s]"
     ]
    },
    {
     "name": "stdout",
     "output_type": "stream",
     "text": [
      "Watching Scarlet Diva , one is poised for titillation , raw insight or both .\n",
      "Prurient playthings aside , there 's little to love about this English trifle .\n"
     ]
    },
    {
     "name": "stderr",
     "output_type": "stream",
     "text": [
      " 48%|███████████████████████████████████████▎                                          | 48/100 [00:18<00:08,  6.45it/s]"
     ]
    },
    {
     "name": "stdout",
     "output_type": "stream",
     "text": [
      "If you believe any of this , I can make you a real deal on leftover Enron stock that will double in value a week from Friday .\n",
      "It 's basically an overlong episode of Tales from the Crypt .\n"
     ]
    },
    {
     "name": "stderr",
     "output_type": "stream",
     "text": [
      " 50%|█████████████████████████████████████████                                         | 50/100 [00:18<00:07,  6.55it/s]"
     ]
    },
    {
     "name": "stdout",
     "output_type": "stream",
     "text": [
      "And when you 're talking about a slapstick comedy , that 's a pretty big problem .\n",
      "For close to two hours the audience is forced to endure three terminally depressed , mostly inarticulate , hyper dysfunctional families for the price of one .\n"
     ]
    },
    {
     "name": "stderr",
     "output_type": "stream",
     "text": [
      " 52%|██████████████████████████████████████████▋                                       | 52/100 [00:19<00:07,  6.57it/s]"
     ]
    },
    {
     "name": "stdout",
     "output_type": "stream",
     "text": [
      "A wildly funny prison caper .\n",
      "Nine Queens is not only than a frighteningly capable debut and genre piece , but also a snapshot of a dangerous political situation on the verge of coming to a head .\n"
     ]
    },
    {
     "name": "stderr",
     "output_type": "stream",
     "text": [
      " 54%|████████████████████████████████████████████▎                                     | 54/100 [00:19<00:07,  6.52it/s]"
     ]
    },
    {
     "name": "stdout",
     "output_type": "stream",
     "text": [
      "The movie exists for its soccer action and its fine acting .\n",
      "There 's not enough here to justify the almost two hours .\n"
     ]
    },
    {
     "name": "stderr",
     "output_type": "stream",
     "text": [
      " 56%|█████████████████████████████████████████████▉                                    | 56/100 [00:19<00:06,  6.61it/s]"
     ]
    },
    {
     "name": "stdout",
     "output_type": "stream",
     "text": [
      "Kinnear gives a tremendous performance .\n",
      "This is one for the ages .\n"
     ]
    },
    {
     "name": "stderr",
     "output_type": "stream",
     "text": [
      " 58%|███████████████████████████████████████████████▌                                  | 58/100 [00:20<00:06,  6.39it/s]"
     ]
    },
    {
     "name": "stdout",
     "output_type": "stream",
     "text": [
      "The special effects and many scenes of weightlessness look as good or better than in the original , while the Oscar-winning sound and James Horner 's rousing score make good use of the hefty audio system .\n",
      "George Clooney proves he 's quite a talented director and Sam Rockwell shows us he 's a world-class actor with Confessions of a Dangerous Mind .\n"
     ]
    },
    {
     "name": "stderr",
     "output_type": "stream",
     "text": [
      " 60%|█████████████████████████████████████████████████▏                                | 60/100 [00:20<00:06,  6.34it/s]"
     ]
    },
    {
     "name": "stdout",
     "output_type": "stream",
     "text": [
      "Over-the-top and a bit ostentatious , this is a movie that 's got oodles of style and substance .\n",
      "Instead , he shows them the respect they are due .\n"
     ]
    },
    {
     "name": "stderr",
     "output_type": "stream",
     "text": [
      " 62%|██████████████████████████████████████████████████▊                               | 62/100 [00:20<00:05,  6.37it/s]"
     ]
    },
    {
     "name": "stdout",
     "output_type": "stream",
     "text": [
      "Although it bangs a very cliched drum at times , this crowd-pleaser 's fresh dialogue , energetic music , and good-natured spunk are often infectious .\n",
      "Hubac 's\n"
     ]
    },
    {
     "name": "stderr",
     "output_type": "stream",
     "text": [
      " 64%|████████████████████████████████████████████████████▍                             | 64/100 [00:20<00:05,  6.19it/s]"
     ]
    },
    {
     "name": "stdout",
     "output_type": "stream",
     "text": [
      "Michael Gerbosi 's script is economically packed with telling scenes .\n",
      "There is not a character in the movie with a shred of plausibility , not an event that is believable , not a confrontation that is not staged , not a moment that is not false .\n"
     ]
    },
    {
     "name": "stderr",
     "output_type": "stream",
     "text": [
      " 66%|██████████████████████████████████████████████████████                            | 66/100 [00:21<00:05,  6.24it/s]"
     ]
    },
    {
     "name": "stdout",
     "output_type": "stream",
     "text": [
      "Like most sequels , it takes what worked last time , repeats it and adds more characters , more stunts , more stuff in attempt to camouflage its sameness .\n",
      "The film 's few ideas are stretched to the point of evaporation ; the whole central section is one big chase that seems to have no goal and no urgency .\n"
     ]
    },
    {
     "name": "stderr",
     "output_type": "stream",
     "text": [
      " 68%|███████████████████████████████████████████████████████▊                          | 68/100 [00:21<00:05,  6.09it/s]"
     ]
    },
    {
     "name": "stdout",
     "output_type": "stream",
     "text": [
      "It 's like a poem .\n",
      "Enjoy it for what it is ; you can hate yourself later .\n"
     ]
    },
    {
     "name": "stderr",
     "output_type": "stream",
     "text": [
      " 70%|█████████████████████████████████████████████████████████▍                        | 70/100 [00:21<00:04,  6.31it/s]"
     ]
    },
    {
     "name": "stdout",
     "output_type": "stream",
     "text": [
      "I 'll bet the video game is a lot more fun than the film .\n",
      "Do n't plan on the perfect ending , but Sweet Home Alabama hits the mark with critics who escaped from a small town life .\n"
     ]
    },
    {
     "name": "stderr",
     "output_type": "stream",
     "text": [
      " 72%|███████████████████████████████████████████████████████████                       | 72/100 [00:22<00:04,  6.54it/s]"
     ]
    },
    {
     "name": "stdout",
     "output_type": "stream",
     "text": [
      "It 's the best film of the year so far , the benchmark against which all other Best Picture contenders should be measured .\n",
      "Generally , Clockstoppers will fulfill your wildest fantasies about being a different kind of time traveler , while happily killing 94 minutes .\n"
     ]
    },
    {
     "name": "stderr",
     "output_type": "stream",
     "text": [
      " 74%|████████████████████████████████████████████████████████████▋                     | 74/100 [00:22<00:03,  6.57it/s]"
     ]
    },
    {
     "name": "stdout",
     "output_type": "stream",
     "text": [
      "It feels like a community theater production of a great Broadway play : Even at its best , it will never hold a candle to the original .\n",
      "Effectively feeds our senses with the chilling sights and sounds from within the camp to create a completely numbing experience .\n"
     ]
    },
    {
     "name": "stderr",
     "output_type": "stream",
     "text": [
      " 76%|██████████████████████████████████████████████████████████████▎                   | 76/100 [00:22<00:03,  6.66it/s]"
     ]
    },
    {
     "name": "stdout",
     "output_type": "stream",
     "text": [
      "Unfortunately , the picture failed to capture me .\n",
      "The actors are appealing , but Elysian Fields is idiotic and absurdly sentimental .\n"
     ]
    },
    {
     "name": "stderr",
     "output_type": "stream",
     "text": [
      " 78%|███████████████████████████████████████████████████████████████▉                  | 78/100 [00:23<00:03,  6.55it/s]"
     ]
    },
    {
     "name": "stdout",
     "output_type": "stream",
     "text": [
      "Nonsensical , dull `` cyber-horror '' flick is a grim , hollow exercise in flat scares and bad acting .\n",
      "Every bit as bogus as most Disney live action family movies are -- no real plot , no real conflict , no real point .\n"
     ]
    },
    {
     "name": "stderr",
     "output_type": "stream",
     "text": [
      " 80%|█████████████████████████████████████████████████████████████████▌                | 80/100 [00:23<00:03,  6.54it/s]"
     ]
    },
    {
     "name": "stdout",
     "output_type": "stream",
     "text": [
      "It ca n't decide if it wants to be a mystery\\/thriller , a romance or a comedy .\n",
      "A one-trick pony whose few T&A bits still ca n't save itself from being unoriginal , unfunny and unrecommendable .\n"
     ]
    },
    {
     "name": "stderr",
     "output_type": "stream",
     "text": [
      " 82%|███████████████████████████████████████████████████████████████████▏              | 82/100 [00:23<00:02,  6.35it/s]"
     ]
    },
    {
     "name": "stdout",
     "output_type": "stream",
     "text": [
      "This examination of aquatic life off the shores of the Baja California peninsula of Mexico offers an engrossing way to demonstrate the virtues of the IMAX format .\n",
      "Kwan makes the mix-and - match metaphors intriguing , while lulling us into torpor with his cultivated allergy to action .\n"
     ]
    },
    {
     "name": "stderr",
     "output_type": "stream",
     "text": [
      " 84%|████████████████████████████████████████████████████████████████████▉             | 84/100 [00:24<00:02,  6.53it/s]"
     ]
    },
    {
     "name": "stdout",
     "output_type": "stream",
     "text": [
      "A woozy , roisterous , exhausting mess , and the off-beat casting of its two leads turns out to be as ill-starred as you might expect .\n",
      "A morality tale whose thought-provoking potential is hampered by a made-for-TV look , rigid performances and an asinine ` twist ' that brazenly rips off The Sixth Sense .\n"
     ]
    },
    {
     "name": "stderr",
     "output_type": "stream",
     "text": [
      " 86%|██████████████████████████████████████████████████████████████████████▌           | 86/100 [00:24<00:02,  6.57it/s]"
     ]
    },
    {
     "name": "stdout",
     "output_type": "stream",
     "text": [
      "Scotland , PA. blurs the line between black comedy and black hole .\n",
      "What 's surprising about Full Frontal is that despite its overt self-awareness , parts of the movie still manage to break past the artifice and thoroughly engage you .\n"
     ]
    },
    {
     "name": "stderr",
     "output_type": "stream",
     "text": [
      " 88%|████████████████████████████████████████████████████████████████████████▏         | 88/100 [00:24<00:01,  6.34it/s]"
     ]
    },
    {
     "name": "stdout",
     "output_type": "stream",
     "text": [
      "-LRB- A -RRB- rare , beautiful film .\n",
      "The film has just enough of everything -- re-enactments , archival footage , talking-head interviews -- and the music is simply sublime .\n"
     ]
    },
    {
     "name": "stderr",
     "output_type": "stream",
     "text": [
      " 90%|█████████████████████████████████████████████████████████████████████████▊        | 90/100 [00:25<00:01,  6.55it/s]"
     ]
    },
    {
     "name": "stdout",
     "output_type": "stream",
     "text": [
      "And if The Hours wins ` Best Picture ' I just might .\n",
      "And in this regard , On Guard delivers .\n"
     ]
    },
    {
     "name": "stderr",
     "output_type": "stream",
     "text": [
      " 92%|███████████████████████████████████████████████████████████████████████████▍      | 92/100 [00:25<00:01,  6.36it/s]"
     ]
    },
    {
     "name": "stdout",
     "output_type": "stream",
     "text": [
      "It wo n't bust your gut -- and it 's not intended to -- it 's merely a blandly cinematic surgical examination of what makes a joke a joke .\n",
      "Remarkably accessible and affecting .\n"
     ]
    },
    {
     "name": "stderr",
     "output_type": "stream",
     "text": [
      " 94%|█████████████████████████████████████████████████████████████████████████████     | 94/100 [00:25<00:00,  6.38it/s]"
     ]
    },
    {
     "name": "stdout",
     "output_type": "stream",
     "text": [
      "If this disposable tissue has one wild card , it 's John Turturro , who 's simply fab as a Spanish butler with a foot fetish .\n",
      "If this movie belonged to a sorority , it would be called Beta Alpha Delta .\n"
     ]
    },
    {
     "name": "stderr",
     "output_type": "stream",
     "text": [
      " 96%|██████████████████████████████████████████████████████████████████████████████▋   | 96/100 [00:25<00:00,  6.44it/s]"
     ]
    },
    {
     "name": "stdout",
     "output_type": "stream",
     "text": [
      "To enjoy this movie 's sharp dialogue and delightful performance by Jolie and Burns , you have to gloss over the no sense ending .\n",
      "An intelligent fiction about learning through cultural clash .\n"
     ]
    },
    {
     "name": "stderr",
     "output_type": "stream",
     "text": [
      " 98%|████████████████████████████████████████████████████████████████████████████████▎ | 98/100 [00:26<00:00,  6.60it/s]"
     ]
    },
    {
     "name": "stdout",
     "output_type": "stream",
     "text": [
      "Plays like a volatile and overlong W magazine fashion spread .\n",
      "It is ridiculous , of course ... but it is also refreshing , disarming , and just outright enjoyable despite its ridiculousness .\n"
     ]
    },
    {
     "name": "stderr",
     "output_type": "stream",
     "text": [
      "100%|█████████████████████████████████████████████████████████████████████████████████| 100/100 [00:26<00:00,  3.77it/s]"
     ]
    },
    {
     "name": "stdout",
     "output_type": "stream",
     "text": [
      "Brilliant ! '\n"
     ]
    },
    {
     "name": "stderr",
     "output_type": "stream",
     "text": [
      "\n"
     ]
    }
   ],
   "source": [
    "final_out = {}\n",
    "\n",
    "for i in tqdm(range(100)):\n",
    "    to_test = test_data[\"Phrase\"].iloc[i]\n",
    "    print(to_test)\n",
    "\n",
    "    test_input = map_to_input(to_test, SEQ_LEN)\n",
    "    input_ids = test_input[\"input_ids\"]\n",
    "    mask = test_input[\"attention_mask\"]\n",
    "    \n",
    "    pred = model.predict([input_ids, mask], verbose=0)\n",
    "#     print(f\"The output class is: {classes[np.argmax(pred[0])]}\")\n",
    "    final_out[to_test] = classes[np.argmax(pred[0])]"
   ]
  },
  {
   "cell_type": "code",
   "execution_count": 49,
   "metadata": {
    "execution": {
     "iopub.execute_input": "2023-03-23T01:55:13.685145Z",
     "iopub.status.busy": "2023-03-23T01:55:13.684205Z",
     "iopub.status.idle": "2023-03-23T01:55:13.774726Z",
     "shell.execute_reply": "2023-03-23T01:55:13.773643Z",
     "shell.execute_reply.started": "2023-03-23T01:55:13.685091Z"
    }
   },
   "outputs": [
    {
     "name": "stdout",
     "output_type": "stream",
     "text": [
      "what on earth did i watch\n"
     ]
    },
    {
     "data": {
      "text/plain": [
       "'Sad'"
      ]
     },
     "execution_count": 49,
     "metadata": {},
     "output_type": "execute_result"
    }
   ],
   "source": [
    "    to_test = \"what on earth did i watch\"\n",
    "    print(to_test)\n",
    "\n",
    "    test_input = map_to_input(to_test, SEQ_LEN)\n",
    "    input_ids = test_input[\"input_ids\"]\n",
    "    mask = test_input[\"attention_mask\"]\n",
    "    \n",
    "    pred = model.predict([input_ids, mask], verbose=0)\n",
    "    output=classes[np.argmax(pred[0])]\n",
    "    output\n",
    "    "
   ]
  },
  {
   "cell_type": "code",
   "execution_count": 47,
   "metadata": {
    "execution": {
     "iopub.execute_input": "2023-03-23T01:29:31.376772Z",
     "iopub.status.busy": "2023-03-23T01:29:31.376166Z",
     "iopub.status.idle": "2023-03-23T01:29:31.383521Z",
     "shell.execute_reply": "2023-03-23T01:29:31.382222Z",
     "shell.execute_reply.started": "2023-03-23T01:29:31.376730Z"
    }
   },
   "outputs": [
    {
     "name": "stdout",
     "output_type": "stream",
     "text": [
      "An intermittently pleasing but mostly routine effort . ==> Happy\n",
      "\n",
      "Kidman is really the only thing that 's worth watching in Birthday Girl , a film by the stage-traine ==> Neutral\n",
      "\n",
      "Once you get into its rhythm ... the movie becomes a heady experience . ==> Happy\n",
      "\n",
      "I kept wishing I was watching a documentary about the wartime Navajos and what they accomplished ins ==> Sad\n",
      "\n",
      "Kinnear does n't aim for our sympathy , but rather delivers a performance of striking skill and dept ==> Happy\n",
      "\n",
      "All ends well , sort of , but the frenzied comic moments never click . ==> Neutral\n",
      "\n",
      "It 's a hoot and a half , and a great way for the American people to see what a candidate is like wh ==> Happy\n",
      "\n",
      "The weight of the piece , the unerring professionalism of the chilly production , and the fascinatio ==> Happy\n",
      "\n",
      "The film contains no good jokes , no good scenes , barely a moment when Carvey 's Saturday Night Liv ==> Sad\n",
      "\n",
      "An offbeat , sometimes gross and surprisingly appealing animated film about the true meaning of the  ==> Happy\n",
      "\n",
      "It suggests the wide-ranging effects of media manipulation , from the kind of reporting that is done ==> Happy\n",
      "\n",
      "As Tweedy talks about canning his stockbroker and repairing his pool , you yearn for a few airborne  ==> Neutral\n",
      "\n",
      "For all its failed connections , Divine Secrets of the Ya-Ya Sisterhood is nurturing , in a gauzy ,  ==> Happy\n",
      "\n",
      "It would be hard to think of a recent movie that has worked this hard to achieve this little fun . ==> Sad\n",
      "\n",
      "The story and structure are well-honed . ==> Happy\n",
      "\n",
      "Chilling but uncommercial look into the mind of Jeffrey Dahmer , serial killer . ==> Sad\n",
      "\n",
      "... the movie is just a plain old monster . ==> Sad\n",
      "\n",
      "This film 's relationship to actual tension is the same as what Christmas-tree flocking in a spray c ==> Sad\n",
      "\n",
      "A depressing confirmation of everything those of us who do n't object to the description `` unelecte ==> Neutral\n",
      "\n",
      "You do n't have to know about music to appreciate the film 's easygoing blend of comedy and romance  ==> Happy\n",
      "\n",
      "However , it lacks grandeur and that epic quality often associated with Stevenson 's tale as well as ==> Happy\n",
      "\n",
      "Although occasionally static to the point of resembling a stage play , the film delivers a solid mix ==> Happy\n",
      "\n",
      "An occasionally funny , but overall limp , fish-out-of-water story . ==> Sad\n",
      "\n",
      "a nightmare date with a half-formed wit done a great disservice by a lack of critical distance and a ==> Sad\n",
      "\n",
      "A fitfully amusing romp that , if nothing else , will appeal to fans of Malcolm in the Middle and it ==> Happy\n",
      "\n",
      "If I Spy were funny -LRB- enough -RRB- or exciting -LRB- enough -RRB- then it would be fairly simple ==> Neutral\n",
      "\n",
      "Borrows from so many literary and cinematic sources that this future world feels absolutely deja vu  ==> Happy\n",
      "\n",
      "Despite its title , Amy 's Orgasm is not a porno , though it is as tedious as one . ==> Sad\n",
      "\n",
      "That dogged good will of the parents and ` vain ' Jia 's defoliation of ego , make the film touching ==> Happy\n",
      "\n",
      "Imagine a really bad community theater production of West Side Story without the songs . ==> Sad\n",
      "\n",
      "It 's an old story , but a lively script , sharp acting and partially animated interludes make Just  ==> Happy\n",
      "\n",
      "The most hopelessly monotonous film of the year , noteworthy only for the gimmick of being filmed as ==> Sad\n",
      "\n",
      "Prancing his way through the tailor-made part of a male hooker approaching the end of his vitality , ==> Sad\n",
      "\n",
      "A distant , even sterile , yet compulsively watchable look at the sordid life of Hogan 's Heroes sta ==> Happy\n",
      "\n",
      "Creepy but ultimately unsatisfying thriller . ==> Happy\n",
      "\n",
      "I just did n't care as much for the story . ==> Sad\n",
      "\n",
      "Extreme Oops - oops , ops , no matter how you spell it , it 's still a mistake to go see it . ==> Neutral\n",
      "\n",
      "What Jackson has accomplished here is amazing on a technical level . ==> Happy\n",
      "\n",
      "If you 've ever entertained the notion of doing what the title of this film implies , what Sex With  ==> Happy\n",
      "\n",
      "A pleasant romantic comedy . ==> Happy\n",
      "\n",
      "A movie that tries to fuse the two ` woods ' but winds up a Bolly-Holly masala mess . ==> Sad\n",
      "\n",
      "Though of particular interest to students and enthusiast of international dance and world music , th ==> Happy\n",
      "\n",
      "Though only 60 minutes long , the film is packed with information and impressions . ==> Neutral\n",
      "\n",
      "  ==> Sad\n",
      "\n",
      "There 's a disturbing ` Great White Hope ' undertone to The Other Side of Heaven that subtly undermi ==> Happy\n",
      "\n",
      "Watching Scarlet Diva , one is poised for titillation , raw insight or both . ==> Happy\n",
      "\n",
      "Prurient playthings aside , there 's little to love about this English trifle . ==> Sad\n",
      "\n",
      "If you believe any of this , I can make you a real deal on leftover Enron stock that will double in  ==> Sad\n",
      "\n",
      "It 's basically an overlong episode of Tales from the Crypt . ==> Sad\n",
      "\n",
      "And when you 're talking about a slapstick comedy , that 's a pretty big problem . ==> Sad\n",
      "\n",
      "For close to two hours the audience is forced to endure three terminally depressed , mostly inarticu ==> Sad\n",
      "\n",
      "A wildly funny prison caper . ==> Happy\n",
      "\n",
      "Nine Queens is not only than a frighteningly capable debut and genre piece , but also a snapshot of  ==> Neutral\n",
      "\n",
      "The movie exists for its soccer action and its fine acting . ==> Happy\n",
      "\n",
      "There 's not enough here to justify the almost two hours . ==> Sad\n",
      "\n",
      "Kinnear gives a tremendous performance . ==> Happy\n",
      "\n",
      "This is one for the ages . ==> Happy\n",
      "\n",
      "The special effects and many scenes of weightlessness look as good or better than in the original ,  ==> Happy\n",
      "\n",
      "George Clooney proves he 's quite a talented director and Sam Rockwell shows us he 's a world-class  ==> Happy\n",
      "\n",
      "Over-the-top and a bit ostentatious , this is a movie that 's got oodles of style and substance . ==> Happy\n",
      "\n",
      "Instead , he shows them the respect they are due . ==> Happy\n",
      "\n",
      "Although it bangs a very cliched drum at times , this crowd-pleaser 's fresh dialogue , energetic mu ==> Happy\n",
      "\n",
      "Hubac 's ==> Sad\n",
      "\n",
      "Michael Gerbosi 's script is economically packed with telling scenes . ==> Happy\n",
      "\n",
      "There is not a character in the movie with a shred of plausibility , not an event that is believable ==> Sad\n",
      "\n",
      "Like most sequels , it takes what worked last time , repeats it and adds more characters , more stun ==> Neutral\n",
      "\n",
      "The film 's few ideas are stretched to the point of evaporation ; the whole central section is one b ==> Neutral\n",
      "\n",
      "It 's like a poem . ==> Sad\n",
      "\n",
      "Enjoy it for what it is ; you can hate yourself later . ==> Neutral\n",
      "\n",
      "I 'll bet the video game is a lot more fun than the film . ==> Neutral\n",
      "\n",
      "Do n't plan on the perfect ending , but Sweet Home Alabama hits the mark with critics who escaped fr ==> Happy\n",
      "\n",
      "It 's the best film of the year so far , the benchmark against which all other Best Picture contende ==> Happy\n",
      "\n",
      "Generally , Clockstoppers will fulfill your wildest fantasies about being a different kind of time t ==> Happy\n",
      "\n",
      "It feels like a community theater production of a great Broadway play : Even at its best , it will n ==> Happy\n",
      "\n",
      "Effectively feeds our senses with the chilling sights and sounds from within the camp to create a co ==> Happy\n",
      "\n",
      "Unfortunately , the picture failed to capture me . ==> Sad\n",
      "\n",
      "The actors are appealing , but Elysian Fields is idiotic and absurdly sentimental . ==> Sad\n",
      "\n",
      "Nonsensical , dull `` cyber-horror '' flick is a grim , hollow exercise in flat scares and bad actin ==> Sad\n",
      "\n",
      "Every bit as bogus as most Disney live action family movies are -- no real plot , no real conflict , ==> Sad\n",
      "\n",
      "It ca n't decide if it wants to be a mystery\\/thriller , a romance or a comedy . ==> Neutral\n",
      "\n",
      "A one-trick pony whose few T&A bits still ca n't save itself from being unoriginal , unfunny and unr ==> Happy\n",
      "\n",
      "This examination of aquatic life off the shores of the Baja California peninsula of Mexico offers an ==> Happy\n",
      "\n",
      "Kwan makes the mix-and - match metaphors intriguing , while lulling us into torpor with his cultivat ==> Happy\n",
      "\n",
      "A woozy , roisterous , exhausting mess , and the off-beat casting of its two leads turns out to be a ==> Sad\n",
      "\n",
      "A morality tale whose thought-provoking potential is hampered by a made-for-TV look , rigid performa ==> Sad\n",
      "\n",
      "Scotland , PA. blurs the line between black comedy and black hole . ==> Happy\n",
      "\n",
      "What 's surprising about Full Frontal is that despite its overt self-awareness , parts of the movie  ==> Happy\n",
      "\n",
      "-LRB- A -RRB- rare , beautiful film . ==> Happy\n",
      "\n",
      "The film has just enough of everything -- re-enactments , archival footage , talking-head interviews ==> Happy\n",
      "\n",
      "And if The Hours wins ` Best Picture ' I just might . ==> Neutral\n",
      "\n",
      "And in this regard , On Guard delivers . ==> Happy\n",
      "\n",
      "It wo n't bust your gut -- and it 's not intended to -- it 's merely a blandly cinematic surgical ex ==> Neutral\n",
      "\n",
      "Remarkably accessible and affecting . ==> Happy\n",
      "\n",
      "If this disposable tissue has one wild card , it 's John Turturro , who 's simply fab as a Spanish b ==> Sad\n",
      "\n",
      "If this movie belonged to a sorority , it would be called Beta Alpha Delta . ==> Sad\n",
      "\n",
      "To enjoy this movie 's sharp dialogue and delightful performance by Jolie and Burns , you have to gl ==> Happy\n",
      "\n",
      "An intelligent fiction about learning through cultural clash . ==> Neutral\n",
      "\n",
      "Plays like a volatile and overlong W magazine fashion spread . ==> Sad\n",
      "\n",
      "It is ridiculous , of course ... but it is also refreshing , disarming , and just outright enjoyable ==> Happy\n",
      "\n",
      "Brilliant ! ' ==> Neutral\n",
      "\n"
     ]
    }
   ],
   "source": [
    "for i in final_out.keys():\n",
    "    print(f\"{i[:100]} ==> {final_out[i]}\\n\")"
   ]
  },
  {
   "cell_type": "code",
   "execution_count": null,
   "metadata": {},
   "outputs": [],
   "source": []
  },
  {
   "cell_type": "code",
   "execution_count": null,
   "metadata": {},
   "outputs": [],
   "source": []
  },
  {
   "cell_type": "code",
   "execution_count": null,
   "metadata": {},
   "outputs": [],
   "source": []
  }
 ],
 "metadata": {
  "kernelspec": {
   "display_name": "Python 3 (ipykernel)",
   "language": "python",
   "name": "python3"
  },
  "language_info": {
   "codemirror_mode": {
    "name": "ipython",
    "version": 3
   },
   "file_extension": ".py",
   "mimetype": "text/x-python",
   "name": "python",
   "nbconvert_exporter": "python",
   "pygments_lexer": "ipython3",
   "version": "3.8.10"
  }
 },
 "nbformat": 4,
 "nbformat_minor": 4
}
